{
 "cells": [
  {
   "cell_type": "markdown",
   "id": "1277360f",
   "metadata": {},
   "source": [
    "# FVGP Single Task Notebook\n",
    "In this notebook we will go through a few features of fvGP. We will be primarily concerned with regression over a single dimension output and single task. See the multiple_task_test_notebook.ipynb for single dimension and multiple task example. The extension to multiple dimensions is straight forward."
   ]
  },
  {
   "cell_type": "markdown",
   "id": "3e11ea1f",
   "metadata": {},
   "source": [
    "## Import fvgp and relevant libraries"
   ]
  },
  {
   "cell_type": "code",
   "execution_count": 1,
   "id": "5f9d2e1c",
   "metadata": {},
   "outputs": [],
   "source": [
    "import fvgp\n",
    "from fvgp import gp\n",
    "import numpy as np\n",
    "import matplotlib.pyplot as plt"
   ]
  },
  {
   "cell_type": "markdown",
   "id": "686ae840",
   "metadata": {},
   "source": [
    "## Defining some input data and testing points"
   ]
  },
  {
   "cell_type": "code",
   "execution_count": 2,
   "id": "bf9a09b3",
   "metadata": {},
   "outputs": [],
   "source": [
    "def test_data_function(x):\n",
    "    return np.sin(0.1 * x)+np.cos(0.05 * x)"
   ]
  },
  {
   "cell_type": "code",
   "execution_count": 3,
   "id": "189646dc",
   "metadata": {},
   "outputs": [],
   "source": [
    "x_input = np.linspace(-2*np.pi, 10*np.pi,20)"
   ]
  },
  {
   "cell_type": "code",
   "execution_count": 4,
   "id": "2e385188",
   "metadata": {},
   "outputs": [],
   "source": [
    "y_output = test_data_function(x_input)"
   ]
  },
  {
   "cell_type": "code",
   "execution_count": 5,
   "id": "d99cc91b",
   "metadata": {},
   "outputs": [],
   "source": [
    "x_input_test = np.linspace(-2*np.pi, 10*np.pi, 100)"
   ]
  },
  {
   "cell_type": "markdown",
   "id": "b17c459d",
   "metadata": {},
   "source": [
    "## Setting up the fvgp single task object\n",
    "NOTE: The input data need to be given in the form (N x input_space_dim). The output can either be a N array or N x 1 array where N is the number of data points. See help(gp.GP) for more information."
   ]
  },
  {
   "cell_type": "code",
   "execution_count": 6,
   "id": "4cc69ef9",
   "metadata": {},
   "outputs": [
    {
     "name": "stdout",
     "output_type": "stream",
     "text": [
      "CAUTION: you have not provided data variances in fvGP,\n",
      "they will be set to 1 percent of the data values!\n"
     ]
    }
   ],
   "source": [
    "obj = gp.GP(input_space_dim = 1, points = x_input.reshape(-1,1),\n",
    "                            values = y_output.reshape(-1,1),\n",
    "                           init_hyperparameters = np.array([10,10]))"
   ]
  },
  {
   "cell_type": "markdown",
   "id": "3d8ca338",
   "metadata": {},
   "source": [
    "## Training our gaussian process regression on given data\n"
   ]
  },
  {
   "cell_type": "code",
   "execution_count": 7,
   "id": "316665dc",
   "metadata": {
    "scrolled": false
   },
   "outputs": [
    {
     "name": "stdout",
     "output_type": "stream",
     "text": [
      "Blocking main thread...\n",
      "fvGP training started with  20  data points\n",
      "fvGP hyperparameter tuning in progress. Old hyperparameters:  [10 10]  with old log likelihood:  31.008946083279657\n",
      "method:  hgdl\n",
      "fvGP submitted HGDL optimization\n",
      "bounds are [[1.e-04 1.e+06]\n",
      " [1.e-06 1.e+02]]\n",
      "HGDL successfully initiated\n",
      "deflation radius set to  0.099999999\n",
      "========================\n",
      "Host  tcp://127.0.0.1:36641  has  3  workers.\n",
      "<Client: 'tcp://127.0.0.1:37859' processes=4 threads=16, memory=31.30 GiB>\n",
      "HGDL starts with:  [[1.00000000e+01 1.00000000e+01]\n",
      " [7.62874438e+05 3.75272785e+01]\n",
      " [2.44853118e+05 6.28113827e+01]]\n",
      "HGDL kill client initialized ...\n",
      "HGDL kill client successful\n",
      "free again\n",
      "this also killed the client\n"
     ]
    }
   ],
   "source": [
    "hyper_param_bounds = np.array([[0.0001, 1000000],[ 0.000001, 100]])\n",
    "##this will block the main thread, even if you use \"hgdl\", another option is \"global\" or \"local\"\n",
    "print(\"Blocking main thread...\")\n",
    "obj.train(hyper_param_bounds, method = \"hgdl\")\n",
    "print(\"free again\")\n",
    "print(\"this also killed the client\")"
   ]
  },
  {
   "cell_type": "markdown",
   "id": "ac9b88ee",
   "metadata": {},
   "source": [
    "## Looking the posterior mean at the test points"
   ]
  },
  {
   "cell_type": "code",
   "execution_count": 8,
   "id": "9f4059cf",
   "metadata": {},
   "outputs": [],
   "source": [
    "post_mean= obj.posterior_mean(x_input_test.reshape(-1,1))"
   ]
  },
  {
   "cell_type": "code",
   "execution_count": 9,
   "id": "e03feaf7",
   "metadata": {
    "scrolled": true
   },
   "outputs": [
    {
     "data": {
      "text/plain": [
       "<matplotlib.legend.Legend at 0x7faa5e6cd220>"
      ]
     },
     "execution_count": 9,
     "metadata": {},
     "output_type": "execute_result"
    },
    {
     "data": {
      "image/png": "[encoded data removed]",
      "text/plain": [
       "<Figure size 432x288 with 1 Axes>"
      ]
     },
     "metadata": {
      "needs_background": "light"
     },
     "output_type": "display_data"
    }
   ],
   "source": [
    "plt.plot(x_input_test, post_mean['f(x)'], label='gp interpolation')\n",
    "plt.scatter(x_input, y_output, label='data')\n",
    "plt.plot(x_input_test,test_data_function(x_input_test), label = '')\n",
    "plt.legend()"
   ]
  },
  {
   "cell_type": "markdown",
   "id": "e9bd1eef",
   "metadata": {},
   "source": [
    "# Training Asynchronously "
   ]
  },
  {
   "cell_type": "code",
   "execution_count": 10,
   "id": "b219aa02",
   "metadata": {},
   "outputs": [],
   "source": [
    "obj = gp.GP(input_space_dim = 1, points = x_input.reshape(-1,1),\n",
    "                            values = y_output.reshape(-1,1),\n",
    "                           init_hyperparameters = np.array([10,10]),\n",
    "                            variances = np.zeros(y_output.reshape(-1,1).shape))\n"
   ]
  },
  {
   "cell_type": "code",
   "execution_count": 11,
   "id": "268a6028",
   "metadata": {
    "scrolled": true
   },
   "outputs": [],
   "source": [
    "hyper_param_bounds = np.array([[0.0001, 100], [ 0.0001, 100]])"
   ]
  },
  {
   "cell_type": "code",
   "execution_count": 12,
   "id": "c4c13783",
   "metadata": {
    "scrolled": true
   },
   "outputs": [
    {
     "name": "stdout",
     "output_type": "stream",
     "text": [
      "Async fvGP training started with  20  data points\n",
      "fvGP submitted HGDL optimization for asynchronous training\n",
      "bounds: [[1.e-04 1.e+02]\n",
      " [1.e-04 1.e+02]]\n",
      "deflation radius:  None\n",
      "HGDL successfully initiated\n",
      "deflation radius set to  0.0999999\n",
      "========================\n",
      "Host  tcp://127.0.0.1:34929  has  3  workers.\n",
      "<Client: 'tcp://127.0.0.1:39943' processes=4 threads=16, memory=31.30 GiB>\n",
      "HGDL starts with:  [[10.         10.        ]\n",
      " [63.36122633 42.69459497]\n",
      " [14.15256072 72.98180107]]\n"
     ]
    }
   ],
   "source": [
    "async_obj = obj.train_async(hyper_param_bounds)"
   ]
  },
  {
   "cell_type": "markdown",
   "id": "084bb807",
   "metadata": {},
   "source": [
    "## Updating asynchronously\n",
    "Updates hyperparameters to current optimization values"
   ]
  },
  {
   "cell_type": "code",
   "execution_count": 13,
   "id": "bdbaa225",
   "metadata": {
    "scrolled": true
   },
   "outputs": [
    {
     "name": "stdout",
     "output_type": "stream",
     "text": [
      "Updating the hyperparameters in fvGP...\n",
      "    Async Hyper-parameter update not successful in fvGP. I am keeping the old ones.\n",
      "    That probably means you are not optimizing them asynchronously\n",
      "    Here is the actual reason:  index 0 is out of bounds for axis 0 with size 0\n",
      "    hyperparameters:  [10 10]\n"
     ]
    },
    {
     "data": {
      "text/plain": [
       "array([10, 10])"
      ]
     },
     "execution_count": 13,
     "metadata": {},
     "output_type": "execute_result"
    }
   ],
   "source": [
    "obj.update_hyperparameters(async_obj)"
   ]
  },
  {
   "cell_type": "markdown",
   "id": "fa679810",
   "metadata": {},
   "source": [
    "## Killing training \n"
   ]
  },
  {
   "cell_type": "code",
   "execution_count": 14,
   "id": "1c4e9515",
   "metadata": {
    "scrolled": true
   },
   "outputs": [
    {
     "name": "stdout",
     "output_type": "stream",
     "text": [
      "fvGP is killing asynchronous training....\n",
      "HGDL kill client initialized ...\n",
      "HGDL kill client successful\n",
      "fvGP successfully killed the training.\n"
     ]
    }
   ],
   "source": [
    "obj.kill_training(async_obj)"
   ]
  },
  {
   "cell_type": "markdown",
   "id": "fbcd118c",
   "metadata": {},
   "source": [
    "## Looking the posterior mean at the test points"
   ]
  },
  {
   "cell_type": "code",
   "execution_count": 15,
   "id": "adf1a0ee",
   "metadata": {},
   "outputs": [],
   "source": [
    "post_mean= obj.posterior_mean(x_input_test.reshape(-1,1))"
   ]
  },
  {
   "cell_type": "code",
   "execution_count": 16,
   "id": "f2f189de",
   "metadata": {
    "scrolled": false
   },
   "outputs": [
    {
     "data": {
      "text/plain": [
       "<matplotlib.legend.Legend at 0x7faa5f62c4c0>"
      ]
     },
     "execution_count": 16,
     "metadata": {},
     "output_type": "execute_result"
    },
    {
     "data": {
      "image/png": "[encoded data removed]",
      "text/plain": [
       "<Figure size 432x288 with 1 Axes>"
      ]
     },
     "metadata": {
      "needs_background": "light"
     },
     "output_type": "display_data"
    }
   ],
   "source": [
    "plt.plot(x_input_test, post_mean['f(x)'], label='interpolation')\n",
    "plt.plot(x_input_test, test_data_function(x_input_test), label='ground truth')\n",
    "plt.legend()"
   ]
  },
  {
   "cell_type": "markdown",
   "id": "63b733a8",
   "metadata": {},
   "source": [
    "# Custom Kernels"
   ]
  },
  {
   "cell_type": "code",
   "execution_count": 17,
   "id": "964e807d",
   "metadata": {},
   "outputs": [],
   "source": [
    "def kernel_l1(x1,x2, hp, obj):\n",
    "    ################################################################\n",
    "    ###standard anisotropic kernel in an input space with l1########\n",
    "    ################################################################\n",
    "    d1 = abs(np.subtract.outer(x1[:,0],x2[:,0])) \n",
    "    return hp[0] * np.exp(-d1/hp[1])"
   ]
  },
  {
   "cell_type": "code",
   "execution_count": 18,
   "id": "f1a4e170",
   "metadata": {},
   "outputs": [],
   "source": [
    "obj = gp.GP(input_space_dim = 1, points = x_input.reshape(-1,1),\n",
    "                            values = y_output.reshape(-1,1),\n",
    "                           init_hyperparameters = np.array([10,10]),\n",
    "                            variances = np.zeros(y_output.reshape(-1,1).shape),\n",
    "                            gp_kernel_function = kernel_l1)"
   ]
  },
  {
   "cell_type": "markdown",
   "id": "55883df2",
   "metadata": {},
   "source": [
    "## Training our gaussian process regression on given data\n"
   ]
  },
  {
   "cell_type": "code",
   "execution_count": 19,
   "id": "4a8245ec",
   "metadata": {
    "scrolled": false
   },
   "outputs": [
    {
     "name": "stdout",
     "output_type": "stream",
     "text": [
      "fvGP training started with  20  data points\n",
      "fvGP hyperparameter tuning in progress. Old hyperparameters:  [10 10]  with old log likelihood:  30.952325741923985\n",
      "method:  global\n",
      "fvGP is performing a global differential evolution algorithm to find the optimal hyperparameters.\n",
      "maximum number of iterations:  120\n",
      "termination tolerance:  0.0001\n",
      "bounds:  [[1.e-04 1.e+03]\n",
      " [1.e-04 1.e+03]]\n",
      "differential_evolution step 1: f(x)= -2.63337\n",
      "differential_evolution step 2: f(x)= -2.67469\n",
      "differential_evolution step 3: f(x)= -3.15347\n",
      "differential_evolution step 4: f(x)= -3.15347\n",
      "differential_evolution step 5: f(x)= -3.15347\n",
      "differential_evolution step 6: f(x)= -3.15347\n",
      "differential_evolution step 7: f(x)= -3.15347\n",
      "differential_evolution step 8: f(x)= -3.54722\n",
      "differential_evolution step 9: f(x)= -3.56547\n",
      "differential_evolution step 10: f(x)= -3.56547\n",
      "differential_evolution step 11: f(x)= -3.56547\n",
      "differential_evolution step 12: f(x)= -3.89177\n",
      "differential_evolution step 13: f(x)= -3.89177\n",
      "differential_evolution step 14: f(x)= -3.89177\n",
      "differential_evolution step 15: f(x)= -3.9233\n",
      "differential_evolution step 16: f(x)= -3.9233\n",
      "differential_evolution step 17: f(x)= -3.9233\n",
      "differential_evolution step 18: f(x)= -3.9233\n",
      "differential_evolution step 19: f(x)= -3.9233\n",
      "differential_evolution step 20: f(x)= -3.9233\n",
      "differential_evolution step 21: f(x)= -3.9233\n",
      "differential_evolution step 22: f(x)= -3.9233\n",
      "differential_evolution step 23: f(x)= -3.9233\n",
      "differential_evolution step 24: f(x)= -3.9233\n",
      "differential_evolution step 25: f(x)= -3.9233\n",
      "differential_evolution step 26: f(x)= -3.9233\n",
      "differential_evolution step 27: f(x)= -3.92333\n",
      "differential_evolution step 28: f(x)= -3.92344\n",
      "differential_evolution step 29: f(x)= -3.92344\n",
      "differential_evolution step 30: f(x)= -3.92344\n",
      "differential_evolution step 31: f(x)= -3.92344\n",
      "fvGP found hyperparameters  [ 0.70222976 79.9798032 ]  with likelihood  -3.9234397453557435  via global optimization\n"
     ]
    }
   ],
   "source": [
    "hyper_param_bounds = np.array([[0.0001, 1000],[ 0.0001, 1000]])\n",
    "obj.train(hyper_param_bounds)"
   ]
  },
  {
   "cell_type": "markdown",
   "id": "819d849b",
   "metadata": {},
   "source": [
    "## Looking the posterior mean at the test points"
   ]
  },
  {
   "cell_type": "code",
   "execution_count": 20,
   "id": "97fb7cd4",
   "metadata": {},
   "outputs": [],
   "source": [
    "post_mean= obj.posterior_mean(x_input_test.reshape(-1,1))"
   ]
  },
  {
   "cell_type": "code",
   "execution_count": 21,
   "id": "fb8dc6d4",
   "metadata": {
    "scrolled": false
   },
   "outputs": [
    {
     "data": {
      "text/plain": [
       "<matplotlib.legend.Legend at 0x7faa5f5fbee0>"
      ]
     },
     "execution_count": 21,
     "metadata": {},
     "output_type": "execute_result"
    },
    {
     "data": {
      "image/png": "[encoded data removed]",
      "text/plain": [
       "<Figure size 432x288 with 1 Axes>"
      ]
     },
     "metadata": {
      "needs_background": "light"
     },
     "output_type": "display_data"
    }
   ],
   "source": [
    "plt.plot(x_input_test, post_mean['f(x)'], label='interpolation')\n",
    "plt.plot(x_input_test, test_data_function(x_input_test), label='ground truth')\n",
    "plt.legend()"
   ]
  },
  {
   "cell_type": "markdown",
   "id": "34362d8c",
   "metadata": {},
   "source": [
    "# Prior Mean Functions\n",
    "### NOTE: The prior mean function must return a 1d vector, e.g., (100,)"
   ]
  },
  {
   "cell_type": "code",
   "execution_count": 22,
   "id": "01e15dcf",
   "metadata": {},
   "outputs": [],
   "source": [
    "def example_mean(gp_obj,x,hyperparameters):\n",
    "    return np.ones(len(x))"
   ]
  },
  {
   "cell_type": "code",
   "execution_count": 23,
   "id": "50c20e11",
   "metadata": {},
   "outputs": [],
   "source": [
    "obj = gp.GP(input_space_dim = 1, points = x_input.reshape(-1,1),\n",
    "                            values = y_output.reshape(-1,1),\n",
    "                           init_hyperparameters = np.array([10,10]),\n",
    "                            variances = np.zeros(y_output.reshape(-1,1).shape),\n",
    "                            gp_mean_function = example_mean)"
   ]
  },
  {
   "cell_type": "markdown",
   "id": "ec955466",
   "metadata": {},
   "source": [
    "## Training our gaussian process regression on given data\n"
   ]
  },
  {
   "cell_type": "code",
   "execution_count": 24,
   "id": "588ecd79",
   "metadata": {
    "scrolled": false
   },
   "outputs": [
    {
     "name": "stdout",
     "output_type": "stream",
     "text": [
      "fvGP training started with  20  data points\n",
      "fvGP hyperparameter tuning in progress. Old hyperparameters:  [10 10]  with old log likelihood:  30.94409135792279\n",
      "method:  global\n",
      "fvGP is performing a global differential evolution algorithm to find the optimal hyperparameters.\n",
      "maximum number of iterations:  120\n",
      "termination tolerance:  0.0001\n",
      "bounds:  [[1.e-04 1.e+03]\n",
      " [1.e-04 1.e+03]]\n",
      "differential_evolution step 1: f(x)= -2.03868\n",
      "differential_evolution step 2: f(x)= -2.03868\n",
      "differential_evolution step 3: f(x)= -3.15544\n",
      "differential_evolution step 4: f(x)= -3.15544\n",
      "differential_evolution step 5: f(x)= -3.15544\n",
      "differential_evolution step 6: f(x)= -3.15544\n",
      "differential_evolution step 7: f(x)= -3.15544\n",
      "differential_evolution step 8: f(x)= -3.25303\n",
      "differential_evolution step 9: f(x)= -3.67042\n",
      "differential_evolution step 10: f(x)= -3.9013\n",
      "differential_evolution step 11: f(x)= -3.9013\n",
      "differential_evolution step 12: f(x)= -3.9013\n",
      "differential_evolution step 13: f(x)= -3.9013\n",
      "differential_evolution step 14: f(x)= -3.9013\n",
      "differential_evolution step 15: f(x)= -4.05099\n",
      "differential_evolution step 16: f(x)= -4.05099\n",
      "differential_evolution step 17: f(x)= -4.05099\n",
      "differential_evolution step 18: f(x)= -4.05099\n",
      "differential_evolution step 19: f(x)= -4.05099\n",
      "differential_evolution step 20: f(x)= -4.08492\n",
      "differential_evolution step 21: f(x)= -4.08492\n",
      "differential_evolution step 22: f(x)= -4.09141\n",
      "differential_evolution step 23: f(x)= -4.09141\n",
      "differential_evolution step 24: f(x)= -4.09141\n",
      "differential_evolution step 25: f(x)= -4.09141\n",
      "differential_evolution step 26: f(x)= -4.09141\n",
      "differential_evolution step 27: f(x)= -4.09209\n",
      "differential_evolution step 28: f(x)= -4.09209\n",
      "differential_evolution step 29: f(x)= -4.09209\n",
      "differential_evolution step 30: f(x)= -4.09209\n",
      "differential_evolution step 31: f(x)= -4.09209\n",
      "differential_evolution step 32: f(x)= -4.09209\n",
      "differential_evolution step 33: f(x)= -4.09209\n",
      "fvGP found hyperparameters  [ 0.54175815 61.50056663]  with likelihood  -4.092095903046982  via global optimization\n"
     ]
    }
   ],
   "source": [
    "hyper_param_bounds = np.array([[0.0001, 1000],[ 0.0001, 1000]])\n",
    "obj.train(hyper_param_bounds)"
   ]
  },
  {
   "cell_type": "markdown",
   "id": "0bbdc82a",
   "metadata": {},
   "source": [
    "## Looking the posterior mean at the test points"
   ]
  },
  {
   "cell_type": "code",
   "execution_count": 25,
   "id": "336f1955",
   "metadata": {},
   "outputs": [],
   "source": [
    "post_mean= obj.posterior_mean(x_input_test.reshape(-1,1))"
   ]
  },
  {
   "cell_type": "code",
   "execution_count": 26,
   "id": "18244e9b",
   "metadata": {
    "scrolled": false
   },
   "outputs": [
    {
     "data": {
      "text/plain": [
       "<matplotlib.legend.Legend at 0x7faa5e4d7be0>"
      ]
     },
     "execution_count": 26,
     "metadata": {},
     "output_type": "execute_result"
    },
    {
     "data": {
      "image/png": "[encoded data removed]",
      "text/plain": [
       "<Figure size 432x288 with 1 Axes>"
      ]
     },
     "metadata": {
      "needs_background": "light"
     },
     "output_type": "display_data"
    }
   ],
   "source": [
    "plt.plot(x_input_test, post_mean['f(x)'], label='interpolation')\n",
    "plt.plot(x_input_test, test_data_function(x_input_test), label='ground truth')\n",
    "plt.scatter(x_input_test,post_mean['f(x)'])\n",
    "plt.legend()"
   ]
  },
  {
   "cell_type": "code",
   "execution_count": null,
   "id": "67ad5d1e",
   "metadata": {},
   "outputs": [],
   "source": []
  }
 ],
 "metadata": {
  "kernelspec": {
   "display_name": "fvgp",
   "language": "python",
   "name": "fvgp"
  },
  "language_info": {
   "codemirror_mode": {
    "name": "ipython",
    "version": 3
   },
   "file_extension": ".py",
   "mimetype": "text/x-python",
   "name": "python",
   "nbconvert_exporter": "python",
   "pygments_lexer": "ipython3",
   "version": "3.8.10"
  }
 },
 "nbformat": 4,
 "nbformat_minor": 5
}
