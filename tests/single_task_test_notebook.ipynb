{
 "cells": [
  {
   "cell_type": "markdown",
   "id": "e3dab054",
   "metadata": {},
   "source": [
    "# FVGP Single Task Notebook\n",
    "In this notebook we will go through many features of FVGP. We will be primarily concerned with regression over a single dimension output and single task. See the multiple_task_test_notebook.ipynb for single dimension and multiple task example."
   ]
  },
  {
   "cell_type": "markdown",
   "id": "98a9977a",
   "metadata": {},
   "source": [
    "## Import fvgp and relevant libraries"
   ]
  },
  {
   "cell_type": "code",
   "execution_count": 5,
   "id": "21e5d707",
   "metadata": {},
   "outputs": [],
   "source": [
    "import fvgp\n",
    "from fvgp import gp\n",
    "import sklearn\n",
    "import numpy as np\n",
    "import matplotlib.pyplot as plt"
   ]
  },
  {
   "cell_type": "markdown",
   "id": "bdb3fad9",
   "metadata": {},
   "source": [
    "## Defining some input data and testing points"
   ]
  },
  {
   "cell_type": "code",
   "execution_count": 74,
   "id": "519d690d",
   "metadata": {},
   "outputs": [],
   "source": [
    "def test_data_function(x):\n",
    "    return 100*np.sin(x)+np.cos(x)"
   ]
  },
  {
   "cell_type": "code",
   "execution_count": 91,
   "id": "f7f2be2d",
   "metadata": {},
   "outputs": [],
   "source": [
    "x_input = np.linspace(-2*np.pi, 10*np.pi,1000)"
   ]
  },
  {
   "cell_type": "code",
   "execution_count": 92,
   "id": "80ce7163",
   "metadata": {},
   "outputs": [],
   "source": [
    "y_output = test_data_function(x_input)"
   ]
  },
  {
   "cell_type": "code",
   "execution_count": 93,
   "id": "c95a5f45",
   "metadata": {},
   "outputs": [],
   "source": [
    "x_input_test = np.linspace(3*np.pi, 4*np.pi, 100)"
   ]
  },
  {
   "cell_type": "markdown",
   "id": "db5b95f6",
   "metadata": {},
   "source": [
    "## Setting up the fvgp single task object\n",
    "NOTE: The input and output data need to be # in the form (N x input_space_dim) and (N x output_tasks) where N is the number of examples. See help(gp.GP) for more information."
   ]
  },
  {
   "cell_type": "code",
   "execution_count": 94,
   "id": "72493340",
   "metadata": {},
   "outputs": [],
   "source": [
    "obj = gp.GP(input_space_dim = 1, points = x_input.reshape(-1,1),\n",
    "                            values = y_output.reshape(-1,1),\n",
    "                           init_hyperparameters = np.array([10,10]),\n",
    "                            variances = np.zeros(y_output.reshape(-1,1).shape))"
   ]
  },
  {
   "cell_type": "markdown",
   "id": "4c166866",
   "metadata": {},
   "source": [
    "## Training our gaussian process regression on given data\n"
   ]
  },
  {
   "cell_type": "code",
   "execution_count": 95,
   "id": "67190a57",
   "metadata": {
    "scrolled": false
   },
   "outputs": [
    {
     "name": "stdout",
     "output_type": "stream",
     "text": [
      "fvGP training started with  1000  data points\n",
      "fvGP hyperparameter tuning in progress. Old hyperparameters:  [10 10]  with old log likelihood:  47221.74561913669\n",
      "method:  global\n",
      "fvGP is performing a global differential evolution algorithm to find the optimal hyperparameters.\n",
      "maximum number of iterations:  120\n",
      "termination tolerance:  0.1\n",
      "bounds:  [[1.e-04 1.e+03]\n",
      " [1.e-04 1.e+03]]\n",
      "differential_evolution step 1: f(x)= 2500.9\n",
      "differential_evolution step 2: f(x)= 2495.62\n",
      "differential_evolution step 3: f(x)= 2438.47\n",
      "differential_evolution step 4: f(x)= 2418.35\n",
      "differential_evolution step 5: f(x)= 2413.36\n",
      "differential_evolution step 6: f(x)= 2410.42\n",
      "differential_evolution step 7: f(x)= 2409.17\n",
      "differential_evolution step 8: f(x)= 2405.27\n",
      "differential_evolution step 9: f(x)= 2405.27\n",
      "fvGP found hyperparameters  [1000.           10.65625107]  with likelihood  2405.0412249677534  via global optimization\n"
     ]
    }
   ],
   "source": [
    "hyper_param_bounds = np.array([[0.0001, 1000],[ 0.0001, 1000]])\n",
    "obj.train(hyper_param_bounds)"
   ]
  },
  {
   "cell_type": "markdown",
   "id": "4f4462c9",
   "metadata": {},
   "source": [
    "## Looking the posterior mean at the test points"
   ]
  },
  {
   "cell_type": "code",
   "execution_count": 96,
   "id": "1e941aa4",
   "metadata": {},
   "outputs": [],
   "source": [
    "post_mean= obj.posterior_mean(x_input_test.reshape(-1,1))"
   ]
  },
  {
   "cell_type": "code",
   "execution_count": 99,
   "id": "61855a38",
   "metadata": {
    "scrolled": true
   },
   "outputs": [
    {
     "data": {
      "text/plain": [
       "<matplotlib.legend.Legend at 0x7f89ecd851f0>"
      ]
     },
     "execution_count": 99,
     "metadata": {},
     "output_type": "execute_result"
    },
    {
     "data": {
      "image/png": "[encoded data removed]",
      "text/plain": [
       "<Figure size 432x288 with 1 Axes>"
      ]
     },
     "metadata": {
      "needs_background": "light"
     },
     "output_type": "display_data"
    }
   ],
   "source": [
    "plt.plot(x_input_test, post_mean['f(x)'], label='interpolation')\n",
    "plt.plot(x_input_test, test_data_function(x_input_test), label='ground truth')\n",
    "plt.legend()"
   ]
  },
  {
   "cell_type": "markdown",
   "id": "fd223816",
   "metadata": {},
   "source": [
    "# Training Asynchronously "
   ]
  },
  {
   "cell_type": "code",
   "execution_count": 33,
   "id": "d5aea97d",
   "metadata": {},
   "outputs": [],
   "source": [
    "obj = gp.GP(input_space_dim = 1, points = x_input.reshape(-1,1),\n",
    "                            values = y_output.reshape(-1,1),\n",
    "                           init_hyperparameters = np.array([10,10]),\n",
    "                            variances = np.zeros(y_output.reshape(-1,1).shape))\n"
   ]
  },
  {
   "cell_type": "code",
   "execution_count": 197,
   "id": "4a713912",
   "metadata": {
    "scrolled": true
   },
   "outputs": [],
   "source": [
    "hyper_param_bounds = np.array([[0.0001, 100], [ 0.0001, 100]])"
   ]
  },
  {
   "cell_type": "code",
   "execution_count": 35,
   "id": "5fd95f31",
   "metadata": {
    "scrolled": true
   },
   "outputs": [
    {
     "name": "stdout",
     "output_type": "stream",
     "text": [
      "Async fvGP training started with  100  data points\n",
      "fvGP submitted HGDL optimization for asynchronous training\n",
      "bounds: [[1.e-04 1.e+03]\n",
      " [1.e-04 1.e+03]]\n",
      "HGDL starts with:  [[ 10.          10.        ]\n",
      " [849.74516529 383.96733595]\n",
      " [321.11918758 415.84576811]]\n"
     ]
    }
   ],
   "source": [
    "async_obj = obj.train_async(hyper_param_bounds)"
   ]
  },
  {
   "cell_type": "markdown",
   "id": "f600cc68",
   "metadata": {},
   "source": [
    "## Updating asynchronously\n",
    "Updates hyperparameters to current optimization values"
   ]
  },
  {
   "cell_type": "code",
   "execution_count": 38,
   "id": "39737314",
   "metadata": {
    "scrolled": true
   },
   "outputs": [
    {
     "name": "stdout",
     "output_type": "stream",
     "text": [
      "fvGP async hyperparameter update successful\n",
      "Latest hyperparameters:  [1000.            1.47191746]\n"
     ]
    },
    {
     "data": {
      "text/plain": [
       "array([1000.        ,    1.47191746])"
      ]
     },
     "execution_count": 38,
     "metadata": {},
     "output_type": "execute_result"
    }
   ],
   "source": [
    "obj.update_hyperparameters(async_obj)"
   ]
  },
  {
   "cell_type": "markdown",
   "id": "1823f2e5",
   "metadata": {},
   "source": [
    "## Killing training \n"
   ]
  },
  {
   "cell_type": "code",
   "execution_count": 39,
   "id": "6c3de855",
   "metadata": {
    "scrolled": true
   },
   "outputs": [
    {
     "name": "stdout",
     "output_type": "stream",
     "text": [
      "fvGP is killing asynchronous training....\n",
      "HGDL kill initialized ...\n",
      "HGDL kill successful\n",
      "fvGP successfully killed the training.\n"
     ]
    }
   ],
   "source": [
    "obj.kill_training(async_obj)"
   ]
  },
  {
   "cell_type": "markdown",
   "id": "2c8fdbff",
   "metadata": {},
   "source": [
    "## Looking the posterior mean at the test points"
   ]
  },
  {
   "cell_type": "code",
   "execution_count": 40,
   "id": "683ab5cf",
   "metadata": {},
   "outputs": [],
   "source": [
    "post_mean= obj.posterior_mean(x_input_test.reshape(-1,1))"
   ]
  },
  {
   "cell_type": "code",
   "execution_count": 106,
   "id": "5c4504ad",
   "metadata": {
    "scrolled": false
   },
   "outputs": [
    {
     "data": {
      "text/plain": [
       "<matplotlib.legend.Legend at 0x7f89ecc416a0>"
      ]
     },
     "execution_count": 106,
     "metadata": {},
     "output_type": "execute_result"
    },
    {
     "data": {
      "image/png": "[encoded data removed]",
      "text/plain": [
       "<Figure size 432x288 with 1 Axes>"
      ]
     },
     "metadata": {
      "needs_background": "light"
     },
     "output_type": "display_data"
    }
   ],
   "source": [
    "plt.plot(x_input_test, post_mean['f(x)'], label='interpolation')\n",
    "plt.plot(x_input_test, test_data_function(x_input_test), label='ground truth')\n",
    "plt.legend()"
   ]
  },
  {
   "cell_type": "markdown",
   "id": "a72bb010",
   "metadata": {},
   "source": [
    "# Custom Kernels"
   ]
  },
  {
   "cell_type": "code",
   "execution_count": 49,
   "id": "6eebb0bc",
   "metadata": {},
   "outputs": [],
   "source": [
    "def kernel_l1(x1,x2, hp, obj):\n",
    "    ################################################################\n",
    "    ###standard anisotropic kernel in an input space with l1########\n",
    "    ################################################################\n",
    "    d1 = abs(np.subtract.outer(x1[:,0],x2[:,0])) \n",
    "    return hp[0] * np.exp(-d1/hp[1])"
   ]
  },
  {
   "cell_type": "code",
   "execution_count": 50,
   "id": "e6591ebb",
   "metadata": {},
   "outputs": [],
   "source": [
    "obj = gp.GP(input_space_dim = 1, points = x_input.reshape(-1,1),\n",
    "                            values = y_output.reshape(-1,1),\n",
    "                           init_hyperparameters = np.array([10,10]),\n",
    "                            variances = np.zeros(y_output.reshape(-1,1).shape),\n",
    "                            gp_kernel_function = kernel_l1)"
   ]
  },
  {
   "cell_type": "markdown",
   "id": "c799eb9e",
   "metadata": {},
   "source": [
    "## Training our gaussian process regression on given data\n"
   ]
  },
  {
   "cell_type": "code",
   "execution_count": 51,
   "id": "7a54f1a5",
   "metadata": {
    "scrolled": false
   },
   "outputs": [
    {
     "name": "stdout",
     "output_type": "stream",
     "text": [
      "fvGP training started with  100  data points\n",
      "fvGP hyperparameter tuning in progress. Old hyperparameters:  [10 10]  with old log likelihood:  47099.56438902898\n",
      "method:  global\n",
      "fvGP is performing a global differential evolution algorithm to find the optimal hyperparameters.\n",
      "maximum number of iterations:  120\n",
      "termination tolerance:  0.1\n",
      "bounds:  [[1.e-04 1.e+03]\n",
      " [1.e-04 1.e+03]]\n",
      "differential_evolution step 1: f(x)= 588.666\n",
      "differential_evolution step 2: f(x)= 588.666\n",
      "differential_evolution step 3: f(x)= 588.666\n",
      "differential_evolution step 4: f(x)= 535.109\n",
      "differential_evolution step 5: f(x)= 526.296\n",
      "differential_evolution step 6: f(x)= 526.296\n",
      "differential_evolution step 7: f(x)= 526.296\n",
      "differential_evolution step 8: f(x)= 506.4\n",
      "differential_evolution step 9: f(x)= 497.467\n",
      "differential_evolution step 10: f(x)= 493.261\n",
      "differential_evolution step 11: f(x)= 493.261\n",
      "fvGP found hyperparameters  [1000.            1.47192176]  with likelihood  492.0289989061517  via global optimization\n"
     ]
    }
   ],
   "source": [
    "hyper_param_bounds = np.array([[0.0001, 1000],[ 0.0001, 1000]])\n",
    "obj.train(hyper_param_bounds)"
   ]
  },
  {
   "cell_type": "markdown",
   "id": "60d6b405",
   "metadata": {},
   "source": [
    "## Looking the posterior mean at the test points"
   ]
  },
  {
   "cell_type": "code",
   "execution_count": 52,
   "id": "2a35d238",
   "metadata": {},
   "outputs": [],
   "source": [
    "post_mean= obj.posterior_mean(x_input_test.reshape(-1,1))"
   ]
  },
  {
   "cell_type": "code",
   "execution_count": 107,
   "id": "5fadc7ce",
   "metadata": {
    "scrolled": false
   },
   "outputs": [
    {
     "data": {
      "text/plain": [
       "<matplotlib.legend.Legend at 0x7f89ecbab730>"
      ]
     },
     "execution_count": 107,
     "metadata": {},
     "output_type": "execute_result"
    },
    {
     "data": {
      "image/png": "[encoded data removed]",
      "text/plain": [
       "<Figure size 432x288 with 1 Axes>"
      ]
     },
     "metadata": {
      "needs_background": "light"
     },
     "output_type": "display_data"
    }
   ],
   "source": [
    "plt.plot(x_input_test, post_mean['f(x)'], label='interpolation')\n",
    "plt.plot(x_input_test, test_data_function(x_input_test), label='ground truth')\n",
    "plt.legend()"
   ]
  },
  {
   "cell_type": "markdown",
   "id": "36981f5c",
   "metadata": {},
   "source": [
    "# Prior Mean Functions\n",
    "### NOTE: The prior mean function must return a 1d vector, e.g., (100,)"
   ]
  },
  {
   "cell_type": "code",
   "execution_count": 69,
   "id": "a024f5c2",
   "metadata": {},
   "outputs": [],
   "source": [
    "def example_mean(gp_obj,x,hyperparameters):\n",
    "    return np.sin(x[:,0]/0.001)"
   ]
  },
  {
   "cell_type": "code",
   "execution_count": 70,
   "id": "ea4caabb",
   "metadata": {},
   "outputs": [],
   "source": [
    "obj = gp.GP(input_space_dim = 1, points = x_input.reshape(-1,1),\n",
    "                            values = y_output.reshape(-1,1),\n",
    "                           init_hyperparameters = np.array([10,10]),\n",
    "                            variances = np.zeros(y_output.reshape(-1,1).shape),\n",
    "                            gp_mean_function = example_mean)"
   ]
  },
  {
   "cell_type": "markdown",
   "id": "6db15739",
   "metadata": {},
   "source": [
    "## Training our gaussian process regression on given data\n"
   ]
  },
  {
   "cell_type": "code",
   "execution_count": 71,
   "id": "6f826b96",
   "metadata": {
    "scrolled": false
   },
   "outputs": [
    {
     "name": "stdout",
     "output_type": "stream",
     "text": [
      "fvGP training started with  100  data points\n",
      "fvGP hyperparameter tuning in progress. Old hyperparameters:  [10 10]  with old log likelihood:  47215.66878437307\n",
      "method:  global\n",
      "fvGP is performing a global differential evolution algorithm to find the optimal hyperparameters.\n",
      "maximum number of iterations:  120\n",
      "termination tolerance:  0.1\n",
      "bounds:  [[1.e-04 1.e+03]\n",
      " [1.e-04 1.e+03]]\n",
      "differential_evolution step 1: f(x)= 2005.7\n",
      "differential_evolution step 2: f(x)= 1572.08\n",
      "differential_evolution step 3: f(x)= 522.044\n",
      "differential_evolution step 4: f(x)= 507.854\n",
      "differential_evolution step 5: f(x)= 507.854\n",
      "differential_evolution step 6: f(x)= 507.854\n",
      "differential_evolution step 7: f(x)= 504.476\n",
      "differential_evolution step 8: f(x)= 496.283\n",
      "differential_evolution step 9: f(x)= 492.503\n",
      "differential_evolution step 10: f(x)= 492.503\n",
      "differential_evolution step 11: f(x)= 492.503\n",
      "differential_evolution step 12: f(x)= 492.503\n",
      "differential_evolution step 13: f(x)= 492.503\n",
      "differential_evolution step 14: f(x)= 492.503\n",
      "differential_evolution step 15: f(x)= 492.503\n",
      "fvGP found hyperparameters  [1000.            1.46907641]  with likelihood  492.2010035348664  via global optimization\n"
     ]
    }
   ],
   "source": [
    "hyper_param_bounds = np.array([[0.0001, 1000],[ 0.0001, 1000]])\n",
    "obj.train(hyper_param_bounds)"
   ]
  },
  {
   "cell_type": "markdown",
   "id": "fd5cb295",
   "metadata": {},
   "source": [
    "## Looking the posterior mean at the test points"
   ]
  },
  {
   "cell_type": "code",
   "execution_count": 72,
   "id": "e2364f14",
   "metadata": {},
   "outputs": [],
   "source": [
    "post_mean= obj.posterior_mean(x_input_test.reshape(-1,1))"
   ]
  },
  {
   "cell_type": "code",
   "execution_count": 108,
   "id": "af4b0d0e",
   "metadata": {
    "scrolled": false
   },
   "outputs": [
    {
     "data": {
      "text/plain": [
       "<matplotlib.legend.Legend at 0x7f89ecb19d30>"
      ]
     },
     "execution_count": 108,
     "metadata": {},
     "output_type": "execute_result"
    },
    {
     "data": {
      "image/png": "[encoded data removed]",
      "text/plain": [
       "<Figure size 432x288 with 1 Axes>"
      ]
     },
     "metadata": {
      "needs_background": "light"
     },
     "output_type": "display_data"
    }
   ],
   "source": [
    "plt.plot(x_input_test, post_mean['f(x)'], label='interpolation')\n",
    "plt.plot(x_input_test, test_data_function(x_input_test), label='ground truth')\n",
    "plt.legend()"
   ]
  },
  {
   "cell_type": "markdown",
   "id": "ef78846d",
   "metadata": {},
   "source": [
    "# Putting it altogether\n",
    "All previous optional gaussian process components can be combined during the class instantiation"
   ]
  },
  {
   "cell_type": "code",
   "execution_count": 87,
   "id": "ffc006e7",
   "metadata": {},
   "outputs": [],
   "source": [
    "obj = gp.GP(input_space_dim = 1, points = x_input.reshape(-1,1),\n",
    "                            values = y_output.reshape(-1,1),\n",
    "                           init_hyperparameters = np.array([10,10]), \n",
    "                            variances = np.zeros(y_output.reshape(-1,1).shape), \n",
    "                            normalize_y = True,\n",
    "                            gp_kernel_function = kernel_l1,\n",
    "                            gp_mean_function = example_mean)"
   ]
  },
  {
   "cell_type": "code",
   "execution_count": 88,
   "id": "071711ea",
   "metadata": {
    "scrolled": false
   },
   "outputs": [
    {
     "name": "stdout",
     "output_type": "stream",
     "text": [
      "fvGP training started with  100  data points\n",
      "fvGP hyperparameter tuning in progress. Old hyperparameters:  [10 10]  with old log likelihood:  195.00941327717902\n",
      "method:  global\n",
      "fvGP is performing a global differential evolution algorithm to find the optimal hyperparameters.\n",
      "maximum number of iterations:  120\n",
      "termination tolerance:  0.1\n",
      "bounds:  [[1.e-04 1.e+03]\n",
      " [1.e-04 1.e+03]]\n",
      "differential_evolution step 1: f(x)= 172.692\n",
      "differential_evolution step 2: f(x)= 172.624\n",
      "fvGP found hyperparameters  [8.68855482e-01 1.00000000e-04]  with likelihood  134.8649235630018  via global optimization\n"
     ]
    }
   ],
   "source": [
    "hyper_param_bounds = np.array([[0.0001, 1000],[ 0.0001, 1000]])\n",
    "obj.train(hyper_param_bounds)"
   ]
  },
  {
   "cell_type": "code",
   "execution_count": 89,
   "id": "e64aa638",
   "metadata": {},
   "outputs": [],
   "source": [
    "post_mean= obj.posterior_mean(x_input_test.reshape(-1,1))"
   ]
  },
  {
   "cell_type": "code",
   "execution_count": 109,
   "id": "5db6ba19",
   "metadata": {
    "scrolled": false
   },
   "outputs": [
    {
     "data": {
      "text/plain": [
       "<matplotlib.legend.Legend at 0x7f89eca91310>"
      ]
     },
     "execution_count": 109,
     "metadata": {},
     "output_type": "execute_result"
    },
    {
     "data": {
      "image/png": "[encoded data removed]",
      "text/plain": [
       "<Figure size 432x288 with 1 Axes>"
      ]
     },
     "metadata": {
      "needs_background": "light"
     },
     "output_type": "display_data"
    }
   ],
   "source": [
    "plt.plot(x_input_test, post_mean['f(x)'], label='interpolation')\n",
    "plt.plot(x_input_test, test_data_function(x_input_test), label='ground truth')\n",
    "plt.legend()"
   ]
  },
  {
   "cell_type": "markdown",
   "id": "b21c0a7b",
   "metadata": {},
   "source": [
    "# RANDOM TESTS"
   ]
  },
  {
   "cell_type": "code",
   "execution_count": 57,
   "id": "d3394877",
   "metadata": {},
   "outputs": [],
   "source": [
    "def hyperparams_test(obj):\n",
    "    assert np.all(obj.hyperparameters >0) == True\n",
    "hyperparams_test(obj)"
   ]
  },
  {
   "cell_type": "code",
   "execution_count": 86,
   "id": "8bb42d8b",
   "metadata": {},
   "outputs": [
    {
     "data": {
      "image/png": "[encoded data removed]",
      "text/plain": [
       "<Figure size 432x288 with 1 Axes>"
      ]
     },
     "metadata": {
      "needs_background": "light"
     },
     "output_type": "display_data"
    }
   ],
   "source": [
    "def normalize_y_test(obj):\n",
    "    plt.hist(obj.data_y )\n",
    "    plt.show()\n",
    "    assert np.array_equal( obj.data_y <= 1, obj.data_y >= 0)\n",
    "normalize_y_test(obj)"
   ]
  },
  {
   "cell_type": "code",
   "execution_count": 70,
   "id": "4d6597af",
   "metadata": {},
   "outputs": [],
   "source": [
    "def correct_hyperparam_bounds_test(obj, hyperparam_bounds):\n",
    "    assert len(obj.hyperparameters) == hyperparam_bounds.shape[0]\n",
    "correct_hyperparam_bounds_test(obj, hyper_param_bounds)"
   ]
  },
  {
   "cell_type": "code",
   "execution_count": 76,
   "id": "b56f8784",
   "metadata": {},
   "outputs": [],
   "source": [
    "def data_correct_shape_test(examples, dimensions, data):\n",
    "    #Data here can be the inputs, associated outputs, or test positions\n",
    "    assert data.shape[0] == examples\n",
    "    assert data.shape[1] == dimensions\n",
    "data_correct_shape_test(100, 1, np.array([y_output]).T) "
   ]
  }
 ],
 "metadata": {
  "kernelspec": {
   "display_name": "Python 3",
   "language": "python",
   "name": "python3"
  },
  "language_info": {
   "codemirror_mode": {
    "name": "ipython",
    "version": 3
   },
   "file_extension": ".py",
   "mimetype": "text/x-python",
   "name": "python",
   "nbconvert_exporter": "python",
   "pygments_lexer": "ipython3",
   "version": "3.8.0"
  }
 },
 "nbformat": 4,
 "nbformat_minor": 5
}
