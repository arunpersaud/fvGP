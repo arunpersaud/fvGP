{
 "cells": [
  {
   "cell_type": "code",
   "execution_count": 18,
   "metadata": {},
   "outputs": [],
   "source": [
    "import numpy as np\n",
    "from fvgp.ensemble_gp import EnsembleGP\n",
    "from fvgp.ensemble_gp import hyperparameters"
   ]
  },
  {
   "cell_type": "code",
   "execution_count": 19,
   "metadata": {},
   "outputs": [],
   "source": [
    "def func(x):\n",
    "    i = np.where(x[:,0] < 1.0)\n",
    "    r = np.zeros((len(x[:,0])))\n",
    "    r[i] = 1.0\n",
    "    return r\n",
    "\n",
    "def mean1(obj,x,hyperparameters):\n",
    "    return np.ones(len(x)) * hps[-1]\n",
    "def mean2(obj,x,hyperparameters):\n",
    "    return np.ones(len(x)) * hps[-1]\n",
    "def kernel1(x1,x2,hps,obj):\n",
    "    d = abs(np.subtract.outer(x1[:,0],x2[:,0]))\n",
    "    return hps[0] * obj.exponential_kernel(d,hps[1])\n",
    "def kernel2(x1,x2,hps,obj):\n",
    "    d = abs(np.subtract.outer(x1[:,0],x2[:,0]))\n",
    "    return hps[0] * obj.exponential_kernel(d,hps[1])"
   ]
  },
  {
   "cell_type": "code",
   "execution_count": 20,
   "metadata": {},
   "outputs": [
    {
     "name": "stdout",
     "output_type": "stream",
     "text": [
      "[0.5 0.5 5.  5.  5.  1.  1.  1. ]\n",
      "---------\n",
      "(array([0.5, 0.5]), [array([5., 5., 5.]), array([1., 1., 1.])])\n",
      "bounds unvectorized:\n",
      "[[0.01 1.  ]\n",
      " [0.01 1.  ]]\n",
      "[array([[1.e-02, 1.e+02],\n",
      "       [1.e-02, 1.e+02],\n",
      "       [0.e+00, 1.e-03]]), array([[1.000e-02, 1.000e+02],\n",
      "       [1.000e-02, 1.000e+02],\n",
      "       [1.000e+00, 1.001e+00]])]\n",
      "bounds vectorized\n",
      "[[1.000e-02 1.000e+00]\n",
      " [1.000e-02 1.000e+00]\n",
      " [1.000e-02 1.000e+02]\n",
      " [1.000e-02 1.000e+02]\n",
      " [0.000e+00 1.000e-03]\n",
      " [1.000e-02 1.000e+02]\n",
      " [1.000e-02 1.000e+02]\n",
      " [1.000e+00 1.001e+00]]\n",
      "bounds unvectorized again\n",
      "[[0.01 1.  ]\n",
      " [0.01 1.  ]]\n",
      "[array([[1.e-02, 1.e+02],\n",
      "       [1.e-02, 1.e+02],\n",
      "       [0.e+00, 1.e-03]]), array([[1.000e-02, 1.000e+02],\n",
      "       [1.000e-02, 1.000e+02],\n",
      "       [1.000e+00, 1.001e+00]])]\n"
     ]
    }
   ],
   "source": [
    "weights = np.ones(2) / 2.0\n",
    "weights_bounds = np.array([[0.01,1],[0.01,1]])\n",
    "hps = [np.ones(3)*5.0,np.ones([3])]\n",
    "hps_bounds = [np.array([[0.01,100],[0.01,100],[0.0,0.001]]),np.array([[0.01,100],[0.01,100],[1.0,1.001]])]\n",
    "hps_obj = hyperparameters(weights,weights_bounds,hps,hps_bounds)\n",
    "\n",
    "a = hps_obj.vectorize_hps(weights,hps)\n",
    "print(a)\n",
    "a = hps_obj.vectorize_hps(weights,hps)\n",
    "print(\"---------\")\n",
    "print(hps_obj.devectorize_hps(a))\n",
    "print(\"bounds unvectorized:\")\n",
    "print(weights_bounds)\n",
    "print(hps_bounds)\n",
    "print(\"bounds vectorized\")\n",
    "b = hps_obj.vectorize_bounds(weights_bounds,hps_bounds)\n",
    "print(b)\n",
    "print(\"bounds unvectorized again\")\n",
    "w,h = hps_obj.devectorize_bounds(b)\n",
    "print(w)\n",
    "print(h)"
   ]
  },
  {
   "cell_type": "code",
   "execution_count": 21,
   "metadata": {},
   "outputs": [
    {
     "name": "stdout",
     "output_type": "stream",
     "text": [
      "Base GP successfully initiated\n",
      "[array([5., 5., 5.]), array([1., 1., 1.])]\n",
      "CAUTION: you have not provided data variances in fvGP,\n",
      "they will be set to 1 percent of the data values!\n"
     ]
    },
    {
     "ename": "ValueError",
     "evalue": "operands could not be broadcast together with shapes (20,) (3,) ",
     "output_type": "error",
     "traceback": [
      "\u001b[0;31m---------------------------------------------------------------------------\u001b[0m",
      "\u001b[0;31mValueError\u001b[0m                                Traceback (most recent call last)",
      "\u001b[0;32m<ipython-input-21-021ebcee3bd2>\u001b[0m in \u001b[0;36m<module>\u001b[0;34m\u001b[0m\n\u001b[1;32m      8\u001b[0m values[:,\u001b[38;5;241m1\u001b[39m] \u001b[38;5;241m=\u001b[39m func(points) \u001b[38;5;241m+\u001b[39m \u001b[38;5;241m10.0\u001b[39m\n\u001b[1;32m     10\u001b[0m \u001b[38;5;28mprint\u001b[39m(hps_obj\u001b[38;5;241m.\u001b[39mhps)\n\u001b[0;32m---> 12\u001b[0m my_gp \u001b[38;5;241m=\u001b[39m \u001b[48;5;17mEnsembleGP\u001b[49m\u001b[48;5;17m(\u001b[49m\u001b[38;5;241;48;5;17m1\u001b[39;49m\u001b[48;5;17m,\u001b[49m\u001b[48;5;17mpoints\u001b[49m\u001b[48;5;17m,\u001b[49m\u001b[48;5;17mvalues\u001b[49m\u001b[48;5;17m,\u001b[49m\u001b[38;5;241;48;5;17m2\u001b[39;49m\u001b[48;5;17m,\u001b[49m\u001b[48;5;17mhps_obj\u001b[49m\u001b[48;5;17m,\u001b[49m\n\u001b[1;32m     13\u001b[0m \u001b[48;5;17m                \u001b[49m\u001b[48;5;17mgp_kernel_functions\u001b[49m\u001b[48;5;17m \u001b[49m\u001b[38;5;241;48;5;17m=\u001b[39;49m\u001b[48;5;17m \u001b[49m\u001b[48;5;17m[\u001b[49m\u001b[48;5;17mkernel1\u001b[49m\u001b[48;5;17m,\u001b[49m\u001b[48;5;17mkernel2\u001b[49m\u001b[48;5;17m]\u001b[49m\u001b[48;5;17m,\u001b[49m\n\u001b[1;32m     14\u001b[0m \u001b[48;5;17m                \u001b[49m\u001b[48;5;17mgp_mean_functions\u001b[49m\u001b[48;5;17m \u001b[49m\u001b[38;5;241;48;5;17m=\u001b[39;49m\u001b[48;5;17m \u001b[49m\u001b[48;5;17m[\u001b[49m\u001b[48;5;17mmean1\u001b[49m\u001b[48;5;17m,\u001b[49m\u001b[48;5;17mmean2\u001b[49m\u001b[48;5;17m]\u001b[49m\u001b[48;5;17m,\u001b[49m\n\u001b[1;32m     15\u001b[0m \u001b[48;5;17m                \u001b[49m\u001b[48;5;17mcompute_device\u001b[49m\u001b[48;5;17m \u001b[49m\u001b[38;5;241;48;5;17m=\u001b[39;49m\u001b[48;5;17m \u001b[49m\u001b[38;5;124;48;5;17m\"\u001b[39;49m\u001b[38;5;124;48;5;17mcpu\u001b[39;49m\u001b[38;5;124;48;5;17m\"\u001b[39;49m\u001b[48;5;17m)\u001b[49m\n\u001b[1;32m     16\u001b[0m my_gp\u001b[38;5;241m.\u001b[39mtrain(hps_obj,\n\u001b[1;32m     17\u001b[0m                 pop_size \u001b[38;5;241m=\u001b[39m \u001b[38;5;241m20\u001b[39m,\n\u001b[1;32m     18\u001b[0m                 tolerance \u001b[38;5;241m=\u001b[39m \u001b[38;5;241m0.0001\u001b[39m,\n\u001b[1;32m     19\u001b[0m                 max_iter \u001b[38;5;241m=\u001b[39m \u001b[38;5;241m20\u001b[39m)\n",
      "\u001b[0;32m~/Coding/Professional/fvGP/fvgp/ensemble_gp.py\u001b[0m in \u001b[0;36mEnsembleGP.__init__\u001b[0;34m(self, input_space_dim, points, values, number_of_GPs, hps_obj, variances, compute_device, gp_kernel_functions, gp_mean_functions, sparse, normalize_y)\u001b[0m\n\u001b[1;32m     91\u001b[0m \u001b[38;5;28;01mif\u001b[39;00m gp_kernel_functions \u001b[38;5;129;01mis\u001b[39;00m \u001b[38;5;28;01mNone\u001b[39;00m: gp_kernel_functions \u001b[38;5;241m=\u001b[39m [\u001b[38;5;28;01mNone\u001b[39;00m] \u001b[38;5;241m*\u001b[39m number_of_GPs\n\u001b[1;32m     92\u001b[0m \u001b[38;5;28;01mif\u001b[39;00m gp_mean_functions \u001b[38;5;129;01mis\u001b[39;00m \u001b[38;5;28;01mNone\u001b[39;00m: gp_mean_functions \u001b[38;5;241m=\u001b[39m [\u001b[38;5;28;01mNone\u001b[39;00m] \u001b[38;5;241m*\u001b[39m number_of_GPs\n\u001b[0;32m---> 93\u001b[0m \u001b[38;5;28mself\u001b[39m\u001b[38;5;241m.\u001b[39mEnsembleGPs \u001b[38;5;241m=\u001b[39m [GP(input_space_dim,points,values,hps_obj\u001b[38;5;241m.\u001b[39mhps[i],\n\u001b[1;32m     94\u001b[0m                        variances \u001b[38;5;241m=\u001b[39m variances,compute_device \u001b[38;5;241m=\u001b[39m compute_device,\n\u001b[1;32m     95\u001b[0m                        gp_kernel_function \u001b[38;5;241m=\u001b[39m gp_kernel_functions[i],\n\u001b[1;32m     96\u001b[0m                        gp_mean_function \u001b[38;5;241m=\u001b[39m gp_mean_functions[i],\n\u001b[1;32m     97\u001b[0m                        sparse \u001b[38;5;241m=\u001b[39m sparse, normalize_y \u001b[38;5;241m=\u001b[39m normalize_y)\n\u001b[1;32m     98\u001b[0m                        \u001b[38;5;28;01mfor\u001b[39;00m i \u001b[38;5;129;01min\u001b[39;00m \u001b[38;5;28mrange\u001b[39m(number_of_GPs)]\n",
      "\u001b[0;32m~/Coding/Professional/fvGP/fvgp/ensemble_gp.py\u001b[0m in \u001b[0;36m<listcomp>\u001b[0;34m(.0)\u001b[0m\n\u001b[1;32m     91\u001b[0m \u001b[38;5;28;01mif\u001b[39;00m gp_kernel_functions \u001b[38;5;129;01mis\u001b[39;00m \u001b[38;5;28;01mNone\u001b[39;00m: gp_kernel_functions \u001b[38;5;241m=\u001b[39m [\u001b[38;5;28;01mNone\u001b[39;00m] \u001b[38;5;241m*\u001b[39m number_of_GPs\n\u001b[1;32m     92\u001b[0m \u001b[38;5;28;01mif\u001b[39;00m gp_mean_functions \u001b[38;5;129;01mis\u001b[39;00m \u001b[38;5;28;01mNone\u001b[39;00m: gp_mean_functions \u001b[38;5;241m=\u001b[39m [\u001b[38;5;28;01mNone\u001b[39;00m] \u001b[38;5;241m*\u001b[39m number_of_GPs\n\u001b[0;32m---> 93\u001b[0m \u001b[38;5;28mself\u001b[39m\u001b[38;5;241m.\u001b[39mEnsembleGPs \u001b[38;5;241m=\u001b[39m [\u001b[48;5;17mGP\u001b[49m\u001b[48;5;17m(\u001b[49m\u001b[48;5;17minput_space_dim\u001b[49m\u001b[48;5;17m,\u001b[49m\u001b[48;5;17mpoints\u001b[49m\u001b[48;5;17m,\u001b[49m\u001b[48;5;17mvalues\u001b[49m\u001b[48;5;17m,\u001b[49m\u001b[48;5;17mhps_obj\u001b[49m\u001b[38;5;241;48;5;17m.\u001b[39;49m\u001b[48;5;17mhps\u001b[49m\u001b[48;5;17m[\u001b[49m\u001b[48;5;17mi\u001b[49m\u001b[48;5;17m]\u001b[49m\u001b[48;5;17m,\u001b[49m\n\u001b[1;32m     94\u001b[0m \u001b[48;5;17m                       \u001b[49m\u001b[48;5;17mvariances\u001b[49m\u001b[48;5;17m \u001b[49m\u001b[38;5;241;48;5;17m=\u001b[39;49m\u001b[48;5;17m \u001b[49m\u001b[48;5;17mvariances\u001b[49m\u001b[48;5;17m,\u001b[49m\u001b[48;5;17mcompute_device\u001b[49m\u001b[48;5;17m \u001b[49m\u001b[38;5;241;48;5;17m=\u001b[39;49m\u001b[48;5;17m \u001b[49m\u001b[48;5;17mcompute_device\u001b[49m\u001b[48;5;17m,\u001b[49m\n\u001b[1;32m     95\u001b[0m \u001b[48;5;17m                       \u001b[49m\u001b[48;5;17mgp_kernel_function\u001b[49m\u001b[48;5;17m \u001b[49m\u001b[38;5;241;48;5;17m=\u001b[39;49m\u001b[48;5;17m \u001b[49m\u001b[48;5;17mgp_kernel_functions\u001b[49m\u001b[48;5;17m[\u001b[49m\u001b[48;5;17mi\u001b[49m\u001b[48;5;17m]\u001b[49m\u001b[48;5;17m,\u001b[49m\n\u001b[1;32m     96\u001b[0m \u001b[48;5;17m                       \u001b[49m\u001b[48;5;17mgp_mean_function\u001b[49m\u001b[48;5;17m \u001b[49m\u001b[38;5;241;48;5;17m=\u001b[39;49m\u001b[48;5;17m \u001b[49m\u001b[48;5;17mgp_mean_functions\u001b[49m\u001b[48;5;17m[\u001b[49m\u001b[48;5;17mi\u001b[49m\u001b[48;5;17m]\u001b[49m\u001b[48;5;17m,\u001b[49m\n\u001b[1;32m     97\u001b[0m \u001b[48;5;17m                       \u001b[49m\u001b[48;5;17msparse\u001b[49m\u001b[48;5;17m \u001b[49m\u001b[38;5;241;48;5;17m=\u001b[39;49m\u001b[48;5;17m \u001b[49m\u001b[48;5;17msparse\u001b[49m\u001b[48;5;17m,\u001b[49m\u001b[48;5;17m \u001b[49m\u001b[48;5;17mnormalize_y\u001b[49m\u001b[48;5;17m \u001b[49m\u001b[38;5;241;48;5;17m=\u001b[39;49m\u001b[48;5;17m \u001b[49m\u001b[48;5;17mnormalize_y\u001b[49m\u001b[48;5;17m)\u001b[49m\n\u001b[1;32m     98\u001b[0m                        \u001b[38;5;28;01mfor\u001b[39;00m i \u001b[38;5;129;01min\u001b[39;00m \u001b[38;5;28mrange\u001b[39m(number_of_GPs)]\n",
      "\u001b[0;32m~/Coding/Professional/fvGP/fvgp/gp.py\u001b[0m in \u001b[0;36mGP.__init__\u001b[0;34m(self, input_space_dim, points, values, init_hyperparameters, variances, compute_device, gp_kernel_function, gp_mean_function, sparse, normalize_y)\u001b[0m\n\u001b[1;32m    146\u001b[0m \u001b[38;5;28mself\u001b[39m\u001b[38;5;241m.\u001b[39mhyperparameters \u001b[38;5;241m=\u001b[39m np\u001b[38;5;241m.\u001b[39marray(init_hyperparameters)\n\u001b[1;32m    147\u001b[0m \u001b[38;5;66;03m##########################################\u001b[39;00m\n\u001b[1;32m    148\u001b[0m \u001b[38;5;66;03m#compute the prior########################\u001b[39;00m\n\u001b[1;32m    149\u001b[0m \u001b[38;5;66;03m##########################################\u001b[39;00m\n\u001b[0;32m--> 150\u001b[0m \u001b[38;5;28;48;5;17mself\u001b[39;49m\u001b[38;5;241;48;5;17m.\u001b[39;49m\u001b[48;5;17mcompute_prior_fvGP_pdf\u001b[49m\u001b[48;5;17m(\u001b[49m\u001b[48;5;17m)\u001b[49m\n",
      "\u001b[0;32m~/Coding/Professional/fvGP/fvgp/gp.py\u001b[0m in \u001b[0;36mGP.compute_prior_fvGP_pdf\u001b[0;34m(self)\u001b[0m\n\u001b[1;32m    563\u001b[0m \u001b[38;5;28;01mdef\u001b[39;00m \u001b[38;5;21mcompute_prior_fvGP_pdf\u001b[39m(\u001b[38;5;28mself\u001b[39m):\n\u001b[1;32m    564\u001b[0m     \u001b[38;5;124;03m\"\"\"\u001b[39;00m\n\u001b[1;32m    565\u001b[0m \u001b[38;5;124;03m    This function computes the important entities, namely the prior covariance and\u001b[39;00m\n\u001b[1;32m    566\u001b[0m \u001b[38;5;124;03m    its product with the (values - prior_mean) and returns them and the prior mean\u001b[39;00m\n\u001b[0;32m   (...)\u001b[0m\n\u001b[1;32m    572\u001b[0m \u001b[38;5;124;03m        covariance value product\u001b[39;00m\n\u001b[1;32m    573\u001b[0m \u001b[38;5;124;03m    \"\"\"\u001b[39;00m\n\u001b[0;32m--> 574\u001b[0m     \u001b[38;5;28mself\u001b[39m\u001b[38;5;241m.\u001b[39mprior_mean_vec \u001b[38;5;241m=\u001b[39m \u001b[38;5;28;48;5;17mself\u001b[39;49m\u001b[38;5;241;48;5;17m.\u001b[39;49m\u001b[48;5;17mmean_function\u001b[49m\u001b[48;5;17m(\u001b[49m\u001b[38;5;28;48;5;17mself\u001b[39;49m\u001b[48;5;17m,\u001b[49m\u001b[38;5;28;48;5;17mself\u001b[39;49m\u001b[38;5;241;48;5;17m.\u001b[39;49m\u001b[48;5;17mdata_x\u001b[49m\u001b[48;5;17m,\u001b[49m\u001b[38;5;28;48;5;17mself\u001b[39;49m\u001b[38;5;241;48;5;17m.\u001b[39;49m\u001b[48;5;17mhyperparameters\u001b[49m\u001b[48;5;17m)\u001b[49m\n\u001b[1;32m    575\u001b[0m     cov_y,K \u001b[38;5;241m=\u001b[39m \u001b[38;5;28mself\u001b[39m\u001b[38;5;241m.\u001b[39m_compute_covariance_value_product(\n\u001b[1;32m    576\u001b[0m             \u001b[38;5;28mself\u001b[39m\u001b[38;5;241m.\u001b[39mhyperparameters,\n\u001b[1;32m    577\u001b[0m             \u001b[38;5;28mself\u001b[39m\u001b[38;5;241m.\u001b[39mdata_y,\n\u001b[1;32m    578\u001b[0m             \u001b[38;5;28mself\u001b[39m\u001b[38;5;241m.\u001b[39mvariances,\n\u001b[1;32m    579\u001b[0m             \u001b[38;5;28mself\u001b[39m\u001b[38;5;241m.\u001b[39mprior_mean_vec)\n\u001b[1;32m    580\u001b[0m     \u001b[38;5;28mself\u001b[39m\u001b[38;5;241m.\u001b[39mprior_covariance \u001b[38;5;241m=\u001b[39m K\n",
      "\u001b[0;32m<ipython-input-19-66e3ac578afe>\u001b[0m in \u001b[0;36mmean1\u001b[0;34m(obj, x, hyperparameters)\u001b[0m\n\u001b[1;32m      7\u001b[0m \u001b[38;5;28;01mdef\u001b[39;00m \u001b[38;5;21mmean1\u001b[39m(obj,x,hyperparameters):\n\u001b[0;32m----> 8\u001b[0m     \u001b[38;5;28;01mreturn\u001b[39;00m \u001b[48;5;17mnp\u001b[49m\u001b[38;5;241;48;5;17m.\u001b[39;49m\u001b[48;5;17mones\u001b[49m\u001b[48;5;17m(\u001b[49m\u001b[38;5;28;48;5;17mlen\u001b[39;49m\u001b[48;5;17m(\u001b[49m\u001b[48;5;17mx\u001b[49m\u001b[48;5;17m)\u001b[49m\u001b[48;5;17m)\u001b[49m\u001b[48;5;17m \u001b[49m\u001b[38;5;241;48;5;17m*\u001b[39;49m\u001b[48;5;17m \u001b[49m\u001b[48;5;17mhps\u001b[49m\u001b[48;5;17m[\u001b[49m\u001b[38;5;241;48;5;17m-\u001b[39;49m\u001b[38;5;241;48;5;17m1\u001b[39;49m\u001b[48;5;17m]\u001b[49m\n",
      "\u001b[0;31mValueError\u001b[0m: operands could not be broadcast together with shapes (20,) (3,) "
     ]
    }
   ],
   "source": [
    "N = 20\n",
    "points = np.empty((N,1))\n",
    "points = np.random.uniform(low = -3, high = 3, size = points.shape)\n",
    "values = func(points)\n",
    "print(\"Base GP successfully initiated\")\n",
    "values = np.empty((N,2))\n",
    "values[:,0] = func(points)\n",
    "values[:,1] = func(points) + 10.0\n",
    "\n",
    "print(hps_obj.hps)\n",
    "\n",
    "my_gp = EnsembleGP(1,points,values,2,hps_obj,\n",
    "                gp_kernel_functions = [kernel1,kernel2],\n",
    "                gp_mean_functions = [mean1,mean2],\n",
    "                compute_device = \"cpu\")\n",
    "my_gp.train(hps_obj,\n",
    "                pop_size = 20,\n",
    "                tolerance = 0.0001,\n",
    "                max_iter = 20)"
   ]
  },
  {
   "cell_type": "code",
   "execution_count": 5,
   "metadata": {},
   "outputs": [
    {
     "ename": "AttributeError",
     "evalue": "'EnsembleGP' object has no attribute 'posterior_mean'",
     "output_type": "error",
     "traceback": [
      "\u001b[0;31m---------------------------------------------------------------------------\u001b[0m",
      "\u001b[0;31mAttributeError\u001b[0m                            Traceback (most recent call last)",
      "\u001b[0;32m<ipython-input-5-d200db517e34>\u001b[0m in \u001b[0;36m<module>\u001b[0;34m\u001b[0m\n\u001b[1;32m      3\u001b[0m x_input[:,\u001b[38;5;241m0\u001b[39m] \u001b[38;5;241m=\u001b[39m np\u001b[38;5;241m.\u001b[39mlinspace(\u001b[38;5;241m-\u001b[39m\u001b[38;5;241m3\u001b[39m,\u001b[38;5;241m3\u001b[39m,\u001b[38;5;241m1000\u001b[39m)\n\u001b[1;32m      4\u001b[0m y \u001b[38;5;241m=\u001b[39m func(x_input)\n\u001b[0;32m----> 5\u001b[0m pred1_mean \u001b[38;5;241m=\u001b[39m \u001b[48;5;17mmy_gp\u001b[49m\u001b[38;5;241;48;5;17m.\u001b[39;49m\u001b[48;5;17mposterior_mean\u001b[49m(x_input)\n\u001b[1;32m      6\u001b[0m pred1_cov \u001b[38;5;241m=\u001b[39m my_gp\u001b[38;5;241m.\u001b[39mposterior_covariance(x_input)\n\u001b[1;32m      8\u001b[0m plt\u001b[38;5;241m.\u001b[39mfigure(figsize \u001b[38;5;241m=\u001b[39m (\u001b[38;5;241m10\u001b[39m,\u001b[38;5;241m4\u001b[39m))\n",
      "\u001b[0;31mAttributeError\u001b[0m: 'EnsembleGP' object has no attribute 'posterior_mean'"
     ]
    }
   ],
   "source": [
    "import matplotlib.pyplot as plt\n",
    "x_input = np.empty((1000,1))\n",
    "x_input[:,0] = np.linspace(-3,3,1000)\n",
    "y = func(x_input)\n",
    "pred1_mean = my_gp.posterior_mean(x_input)\n",
    "pred1_cov = my_gp.posterior_covariance(x_input)\n",
    "\n",
    "plt.figure(figsize = (10,4))\n",
    "plt.plot(x_input,pred1_mean[\"f(x)\"], label = \"posterior mean\",linewidth = 3.0)\n",
    "plt.plot(x_input,y, label = \"ground truth\",linewidth = 3.0)\n",
    "m = pred1_mean[\"f(x)\"]\n",
    "s = np.diag(pred1_cov[\"S(x)\"])\n",
    "plt.plot(x_input, s, label = \"std\", linewidth = 3.0)\n",
    "plt.fill_between(x_input[:,0], m-3.0*np.sqrt(s), m+3.0*np.sqrt(s), alpha = 0.5, label = \"95% confidence interval\")\n",
    "plt.scatter(my_gp.data_x[:,0],my_gp.data_y[0:len(x_input)], label = \"data\",linewidth = 3.0)\n",
    "plt.legend()\n",
    "print(\"computing probability of the given values\")\n",
    "comp_mean_vec = np.array([2.0,1.0])\n",
    "comp_var = np.zeros((2, 2))\n",
    "np.fill_diagonal(comp_var,np.random.rand(len(comp_var)))\n",
    "x_input_prob = np.array([[0.55],[1.4]])\n",
    "print(\"mean: \",comp_mean_vec)\n",
    "print(\"var: \",comp_var)\n",
    "print(\"points: \", x_input_prob)"
   ]
  },
  {
   "cell_type": "code",
   "execution_count": null,
   "metadata": {},
   "outputs": [],
   "source": []
  }
 ],
 "metadata": {
  "kernelspec": {
   "display_name": "Python 3",
   "language": "python",
   "name": "python3"
  },
  "language_info": {
   "codemirror_mode": {
    "name": "ipython",
    "version": 3
   },
   "file_extension": ".py",
   "mimetype": "text/x-python",
   "name": "python",
   "nbconvert_exporter": "python",
   "pygments_lexer": "ipython3",
   "version": "3.8.5"
  }
 },
 "nbformat": 4,
 "nbformat_minor": 4
}
