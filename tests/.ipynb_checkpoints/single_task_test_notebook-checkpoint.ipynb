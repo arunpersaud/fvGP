{
 "cells": [
  {
   "cell_type": "markdown",
   "metadata": {},
   "source": [
    "# FVGP Single Task Notebook\n",
    "In this notebook we will go through many features of FVGP. We will be primarily concerned with regression over a single dimension output and single task. See the multiple_task_test_notebook.ipynb for single dimension and multiple task example."
   ]
  },
  {
   "cell_type": "markdown",
   "metadata": {},
   "source": [
    "## Import fvgp and relevant libraries"
   ]
  },
  {
   "cell_type": "code",
   "execution_count": 1,
   "metadata": {},
   "outputs": [],
   "source": [
    "import fvgp\n",
    "from fvgp import gp\n",
    "import sklearn\n",
    "import numpy as np\n",
    "import matplotlib.pyplot as plt"
   ]
  },
  {
   "cell_type": "markdown",
   "metadata": {},
   "source": [
    "## Defining some input data and testing points"
   ]
  },
  {
   "cell_type": "code",
   "execution_count": 2,
   "metadata": {},
   "outputs": [],
   "source": [
    "def test_data_function(x):\n",
    "    return np.sin(0.1 * x)+np.cos(0.05 * x)"
   ]
  },
  {
   "cell_type": "code",
   "execution_count": 3,
   "metadata": {},
   "outputs": [],
   "source": [
    "x_input = np.linspace(-2*np.pi, 10*np.pi,20)"
   ]
  },
  {
   "cell_type": "code",
   "execution_count": 4,
   "metadata": {},
   "outputs": [],
   "source": [
    "y_output = test_data_function(x_input)"
   ]
  },
  {
   "cell_type": "code",
   "execution_count": 5,
   "metadata": {},
   "outputs": [],
   "source": [
    "x_input_test = np.linspace(-2*np.pi, 10*np.pi, 100)"
   ]
  },
  {
   "cell_type": "markdown",
   "metadata": {},
   "source": [
    "## Setting up the fvgp single task object\n",
    "NOTE: The input data need to be given in the form (N x input_space_dim). The output can either be a N array or N x 1 array where N is the number of data points. See help(gp.GP) for more information."
   ]
  },
  {
   "cell_type": "code",
   "execution_count": 6,
   "metadata": {},
   "outputs": [
    {
     "name": "stdout",
     "output_type": "stream",
     "text": [
      "CAUTION: you have not provided data variances in fvGP,\n",
      "they will be set to 1 percent of the data values!\n"
     ]
    }
   ],
   "source": [
    "obj = gp.GP(input_space_dim = 1, points = x_input.reshape(-1,1),\n",
    "                            values = y_output.reshape(-1,1),\n",
    "                           init_hyperparameters = np.array([10,10]))"
   ]
  },
  {
   "cell_type": "markdown",
   "metadata": {},
   "source": [
    "## Training our gaussian process regression on given data\n"
   ]
  },
  {
   "cell_type": "code",
   "execution_count": 7,
   "metadata": {
    "scrolled": false
   },
   "outputs": [
    {
     "name": "stdout",
     "output_type": "stream",
     "text": [
      "fvGP training started with  20  data points\n",
      "fvGP hyperparameter tuning in progress. Old hyperparameters:  [10 10]  with old log likelihood:  31.008946083279657\n",
      "method:  global\n",
      "fvGP is performing a global differential evolution algorithm to find the optimal hyperparameters.\n",
      "maximum number of iterations:  120\n",
      "termination tolerance:  0.0001\n",
      "bounds:  [[1.e-04 1.e+06]\n",
      " [1.e-06 1.e+02]]\n",
      "differential_evolution step 1: f(x)= 45.1594\n",
      "differential_evolution step 2: f(x)= 45.1594\n",
      "differential_evolution step 3: f(x)= 45.1594\n",
      "differential_evolution step 4: f(x)= 44.5324\n",
      "differential_evolution step 5: f(x)= 44.5324\n",
      "differential_evolution step 6: f(x)= 38.7975\n",
      "differential_evolution step 7: f(x)= 38.7975\n",
      "differential_evolution step 8: f(x)= 38.7975\n",
      "differential_evolution step 9: f(x)= 31.7199\n",
      "differential_evolution step 10: f(x)= 29.6976\n",
      "differential_evolution step 11: f(x)= 24.2025\n",
      "differential_evolution step 12: f(x)= 24.2025\n",
      "differential_evolution step 13: f(x)= 21.7251\n",
      "differential_evolution step 14: f(x)= 21.7251\n",
      "differential_evolution step 15: f(x)= 18.6389\n",
      "differential_evolution step 16: f(x)= 11.9798\n",
      "differential_evolution step 17: f(x)= 10.8711\n",
      "differential_evolution step 18: f(x)= 1.92404\n",
      "differential_evolution step 19: f(x)= 0.46482\n",
      "differential_evolution step 20: f(x)= 0.46482\n",
      "differential_evolution step 21: f(x)= -0.0177759\n",
      "differential_evolution step 22: f(x)= -0.0177759\n",
      "differential_evolution step 23: f(x)= -0.0177759\n",
      "differential_evolution step 24: f(x)= -0.111664\n",
      "differential_evolution step 25: f(x)= -0.179527\n",
      "differential_evolution step 26: f(x)= -0.180325\n",
      "differential_evolution step 27: f(x)= -0.180325\n",
      "differential_evolution step 28: f(x)= -0.186471\n",
      "differential_evolution step 29: f(x)= -0.192991\n",
      "differential_evolution step 30: f(x)= -0.193882\n",
      "differential_evolution step 31: f(x)= -0.194321\n",
      "differential_evolution step 32: f(x)= -0.194926\n",
      "differential_evolution step 33: f(x)= -0.194926\n",
      "differential_evolution step 34: f(x)= -0.194926\n",
      "differential_evolution step 35: f(x)= -0.194953\n",
      "differential_evolution step 36: f(x)= -0.194953\n",
      "differential_evolution step 37: f(x)= -0.194976\n",
      "differential_evolution step 38: f(x)= -0.194977\n",
      "differential_evolution step 39: f(x)= -0.19498\n",
      "differential_evolution step 40: f(x)= -0.19498\n",
      "differential_evolution step 41: f(x)= -0.194981\n",
      "differential_evolution step 42: f(x)= -0.194981\n",
      "differential_evolution step 43: f(x)= -0.194981\n",
      "fvGP found hyperparameters  [ 0.63457309 52.66881906]  with likelihood  -0.19498125201803873  via global optimization\n"
     ]
    }
   ],
   "source": [
    "hyper_param_bounds = np.array([[0.0001, 1000000],[ 0.000001, 100]])\n",
    "obj.train(hyper_param_bounds)"
   ]
  },
  {
   "cell_type": "markdown",
   "metadata": {},
   "source": [
    "## Looking the posterior mean at the test points"
   ]
  },
  {
   "cell_type": "code",
   "execution_count": 8,
   "metadata": {},
   "outputs": [],
   "source": [
    "post_mean= obj.posterior_mean(x_input_test.reshape(-1,1))"
   ]
  },
  {
   "cell_type": "code",
   "execution_count": 9,
   "metadata": {
    "scrolled": true
   },
   "outputs": [
    {
     "data": {
      "text/plain": [
       "<matplotlib.legend.Legend at 0x7fb61c6799a0>"
      ]
     },
     "execution_count": 9,
     "metadata": {},
     "output_type": "execute_result"
    },
    {
     "data": {
      "image/png": "[encoded data removed]",
      "text/plain": [
       "<Figure size 432x288 with 1 Axes>"
      ]
     },
     "metadata": {
      "needs_background": "light"
     },
     "output_type": "display_data"
    }
   ],
   "source": [
    "plt.plot(x_input_test, post_mean['f(x)'], label='gp interpolation')\n",
    "plt.scatter(x_input, y_output, label='data')\n",
    "plt.plot(x_input_test,test_data_function(x_input_test), label = '')\n",
    "plt.legend()"
   ]
  },
  {
   "cell_type": "markdown",
   "metadata": {},
   "source": [
    "# Training Asynchronously "
   ]
  },
  {
   "cell_type": "code",
   "execution_count": 10,
   "metadata": {},
   "outputs": [],
   "source": [
    "obj = gp.GP(input_space_dim = 1, points = x_input.reshape(-1,1),\n",
    "                            values = y_output.reshape(-1,1),\n",
    "                           init_hyperparameters = np.array([10,10]),\n",
    "                            variances = np.zeros(y_output.reshape(-1,1).shape))\n"
   ]
  },
  {
   "cell_type": "code",
   "execution_count": 11,
   "metadata": {
    "scrolled": true
   },
   "outputs": [],
   "source": [
    "hyper_param_bounds = np.array([[0.0001, 100], [ 0.0001, 100]])"
   ]
  },
  {
   "cell_type": "code",
   "execution_count": 12,
   "metadata": {
    "scrolled": true
   },
   "outputs": [
    {
     "name": "stdout",
     "output_type": "stream",
     "text": [
      "Async fvGP training started with  20  data points\n",
      "fvGP submitted HGDL optimization for asynchronous training\n",
      "bounds: [[1.e-04 1.e+02]\n",
      " [1.e-04 1.e+02]]\n",
      "HGDL starts with:  [[10.         10.        ]\n",
      " [92.96783583 77.03137892]\n",
      " [84.58568671 26.65609323]]\n"
     ]
    }
   ],
   "source": [
    "async_obj = obj.train_async(hyper_param_bounds)"
   ]
  },
  {
   "cell_type": "markdown",
   "metadata": {},
   "source": [
    "## Updating asynchronously\n",
    "Updates hyperparameters to current optimization values"
   ]
  },
  {
   "cell_type": "code",
   "execution_count": 13,
   "metadata": {
    "scrolled": true
   },
   "outputs": [
    {
     "name": "stdout",
     "output_type": "stream",
     "text": [
      "fvGP async hyperparameter update successful\n",
      "Latest hyperparameters:  [10. 10.]\n"
     ]
    },
    {
     "data": {
      "text/plain": [
       "array([10., 10.])"
      ]
     },
     "execution_count": 13,
     "metadata": {},
     "output_type": "execute_result"
    }
   ],
   "source": [
    "obj.update_hyperparameters(async_obj)"
   ]
  },
  {
   "cell_type": "markdown",
   "metadata": {},
   "source": [
    "## Killing training \n"
   ]
  },
  {
   "cell_type": "code",
   "execution_count": 14,
   "metadata": {
    "scrolled": true
   },
   "outputs": [
    {
     "name": "stdout",
     "output_type": "stream",
     "text": [
      "fvGP is killing asynchronous training....\n",
      "HGDL kill initialized ...\n",
      "HGDL kill successful\n",
      "fvGP successfully killed the training.\n"
     ]
    }
   ],
   "source": [
    "obj.kill_training(async_obj)"
   ]
  },
  {
   "cell_type": "markdown",
   "metadata": {},
   "source": [
    "## Looking the posterior mean at the test points"
   ]
  },
  {
   "cell_type": "code",
   "execution_count": 15,
   "metadata": {},
   "outputs": [],
   "source": [
    "post_mean= obj.posterior_mean(x_input_test.reshape(-1,1))"
   ]
  },
  {
   "cell_type": "code",
   "execution_count": 16,
   "metadata": {
    "scrolled": false
   },
   "outputs": [
    {
     "data": {
      "text/plain": [
       "<matplotlib.legend.Legend at 0x7fb60f0140d0>"
      ]
     },
     "execution_count": 16,
     "metadata": {},
     "output_type": "execute_result"
    },
    {
     "data": {
      "image/png": "[encoded data removed]",
      "text/plain": [
       "<Figure size 432x288 with 1 Axes>"
      ]
     },
     "metadata": {
      "needs_background": "light"
     },
     "output_type": "display_data"
    }
   ],
   "source": [
    "plt.plot(x_input_test, post_mean['f(x)'], label='interpolation')\n",
    "plt.plot(x_input_test, test_data_function(x_input_test), label='ground truth')\n",
    "plt.legend()"
   ]
  },
  {
   "cell_type": "markdown",
   "metadata": {},
   "source": [
    "# Custom Kernels"
   ]
  },
  {
   "cell_type": "code",
   "execution_count": 17,
   "metadata": {},
   "outputs": [],
   "source": [
    "def kernel_l1(x1,x2, hp, obj):\n",
    "    ################################################################\n",
    "    ###standard anisotropic kernel in an input space with l1########\n",
    "    ################################################################\n",
    "    d1 = abs(np.subtract.outer(x1[:,0],x2[:,0])) \n",
    "    return hp[0] * np.exp(-d1/hp[1])"
   ]
  },
  {
   "cell_type": "code",
   "execution_count": 18,
   "metadata": {},
   "outputs": [],
   "source": [
    "obj = gp.GP(input_space_dim = 1, points = x_input.reshape(-1,1),\n",
    "                            values = y_output.reshape(-1,1),\n",
    "                           init_hyperparameters = np.array([10,10]),\n",
    "                            variances = np.zeros(y_output.reshape(-1,1).shape),\n",
    "                            gp_kernel_function = kernel_l1)"
   ]
  },
  {
   "cell_type": "markdown",
   "metadata": {},
   "source": [
    "## Training our gaussian process regression on given data\n"
   ]
  },
  {
   "cell_type": "code",
   "execution_count": 19,
   "metadata": {
    "scrolled": false
   },
   "outputs": [
    {
     "name": "stdout",
     "output_type": "stream",
     "text": [
      "fvGP training started with  20  data points\n",
      "fvGP hyperparameter tuning in progress. Old hyperparameters:  [10 10]  with old log likelihood:  30.95232574192399\n",
      "method:  global\n",
      "fvGP is performing a global differential evolution algorithm to find the optimal hyperparameters.\n",
      "maximum number of iterations:  120\n",
      "termination tolerance:  0.0001\n",
      "bounds:  [[1.e-04 1.e+03]\n",
      " [1.e-04 1.e+03]]\n",
      "differential_evolution step 1: f(x)= -3.22395\n",
      "differential_evolution step 2: f(x)= -3.22395\n",
      "differential_evolution step 3: f(x)= -3.22395\n",
      "differential_evolution step 4: f(x)= -3.22395\n",
      "differential_evolution step 5: f(x)= -3.42948\n",
      "differential_evolution step 6: f(x)= -3.42948\n",
      "differential_evolution step 7: f(x)= -3.42948\n",
      "differential_evolution step 8: f(x)= -3.48705\n",
      "differential_evolution step 9: f(x)= -3.48705\n",
      "differential_evolution step 10: f(x)= -3.60718\n",
      "differential_evolution step 11: f(x)= -3.83135\n",
      "differential_evolution step 12: f(x)= -3.90871\n",
      "differential_evolution step 13: f(x)= -3.90871\n",
      "differential_evolution step 14: f(x)= -3.91488\n",
      "differential_evolution step 15: f(x)= -3.91488\n",
      "differential_evolution step 16: f(x)= -3.92108\n",
      "differential_evolution step 17: f(x)= -3.92108\n",
      "differential_evolution step 18: f(x)= -3.92132\n",
      "differential_evolution step 19: f(x)= -3.92132\n",
      "differential_evolution step 20: f(x)= -3.92344\n",
      "differential_evolution step 21: f(x)= -3.92344\n",
      "differential_evolution step 22: f(x)= -3.92344\n",
      "differential_evolution step 23: f(x)= -3.92344\n",
      "differential_evolution step 24: f(x)= -3.92344\n",
      "differential_evolution step 25: f(x)= -3.92344\n",
      "differential_evolution step 26: f(x)= -3.92344\n",
      "differential_evolution step 27: f(x)= -3.92345\n",
      "differential_evolution step 28: f(x)= -3.92345\n",
      "fvGP found hyperparameters  [ 0.70471064 80.28466569]  with likelihood  -3.923445977357339  via global optimization\n"
     ]
    }
   ],
   "source": [
    "hyper_param_bounds = np.array([[0.0001, 1000],[ 0.0001, 1000]])\n",
    "obj.train(hyper_param_bounds)"
   ]
  },
  {
   "cell_type": "markdown",
   "metadata": {},
   "source": [
    "## Looking the posterior mean at the test points"
   ]
  },
  {
   "cell_type": "code",
   "execution_count": 20,
   "metadata": {},
   "outputs": [],
   "source": [
    "post_mean= obj.posterior_mean(x_input_test.reshape(-1,1))"
   ]
  },
  {
   "cell_type": "code",
   "execution_count": 21,
   "metadata": {
    "scrolled": false
   },
   "outputs": [
    {
     "data": {
      "text/plain": [
       "<matplotlib.legend.Legend at 0x7fb6a8b58ac0>"
      ]
     },
     "execution_count": 21,
     "metadata": {},
     "output_type": "execute_result"
    },
    {
     "data": {
      "image/png": "[encoded data removed]",
      "text/plain": [
       "<Figure size 432x288 with 1 Axes>"
      ]
     },
     "metadata": {
      "needs_background": "light"
     },
     "output_type": "display_data"
    }
   ],
   "source": [
    "plt.plot(x_input_test, post_mean['f(x)'], label='interpolation')\n",
    "plt.plot(x_input_test, test_data_function(x_input_test), label='ground truth')\n",
    "plt.legend()"
   ]
  },
  {
   "cell_type": "markdown",
   "metadata": {},
   "source": [
    "# Prior Mean Functions\n",
    "### NOTE: The prior mean function must return a 1d vector, e.g., (100,)"
   ]
  },
  {
   "cell_type": "code",
   "execution_count": 22,
   "metadata": {},
   "outputs": [],
   "source": [
    "def example_mean(gp_obj,x,hyperparameters):\n",
    "    return np.ones(len(x))"
   ]
  },
  {
   "cell_type": "code",
   "execution_count": 23,
   "metadata": {},
   "outputs": [],
   "source": [
    "obj = gp.GP(input_space_dim = 1, points = x_input.reshape(-1,1),\n",
    "                            values = y_output.reshape(-1,1),\n",
    "                           init_hyperparameters = np.array([10,10]),\n",
    "                            variances = np.zeros(y_output.reshape(-1,1).shape),\n",
    "                            gp_mean_function = example_mean)"
   ]
  },
  {
   "cell_type": "markdown",
   "metadata": {},
   "source": [
    "## Training our gaussian process regression on given data\n"
   ]
  },
  {
   "cell_type": "code",
   "execution_count": 24,
   "metadata": {
    "scrolled": false
   },
   "outputs": [
    {
     "name": "stdout",
     "output_type": "stream",
     "text": [
      "fvGP training started with  20  data points\n",
      "fvGP hyperparameter tuning in progress. Old hyperparameters:  [10 10]  with old log likelihood:  30.944091357922794\n",
      "method:  global\n",
      "fvGP is performing a global differential evolution algorithm to find the optimal hyperparameters.\n",
      "maximum number of iterations:  120\n",
      "termination tolerance:  0.0001\n",
      "bounds:  [[1.e-04 1.e+03]\n",
      " [1.e-04 1.e+03]]\n",
      "differential_evolution step 1: f(x)= -0.00241118\n",
      "differential_evolution step 2: f(x)= -2.05249\n",
      "differential_evolution step 3: f(x)= -3.36181\n",
      "differential_evolution step 4: f(x)= -3.36181\n",
      "differential_evolution step 5: f(x)= -3.39584\n",
      "differential_evolution step 6: f(x)= -3.41285\n",
      "differential_evolution step 7: f(x)= -3.48491\n",
      "differential_evolution step 8: f(x)= -3.52975\n",
      "differential_evolution step 9: f(x)= -4.0043\n",
      "differential_evolution step 10: f(x)= -4.0043\n",
      "differential_evolution step 11: f(x)= -4.0043\n",
      "differential_evolution step 12: f(x)= -4.0043\n",
      "differential_evolution step 13: f(x)= -4.06078\n",
      "differential_evolution step 14: f(x)= -4.06078\n",
      "differential_evolution step 15: f(x)= -4.06078\n",
      "differential_evolution step 16: f(x)= -4.09154\n",
      "differential_evolution step 17: f(x)= -4.09154\n",
      "differential_evolution step 18: f(x)= -4.09154\n",
      "differential_evolution step 19: f(x)= -4.09154\n",
      "differential_evolution step 20: f(x)= -4.09154\n",
      "differential_evolution step 21: f(x)= -4.09154\n",
      "differential_evolution step 22: f(x)= -4.09154\n",
      "differential_evolution step 23: f(x)= -4.09154\n",
      "differential_evolution step 24: f(x)= -4.09154\n",
      "differential_evolution step 25: f(x)= -4.09166\n",
      "differential_evolution step 26: f(x)= -4.09166\n",
      "differential_evolution step 27: f(x)= -4.09166\n",
      "differential_evolution step 28: f(x)= -4.09191\n",
      "differential_evolution step 29: f(x)= -4.09195\n",
      "differential_evolution step 30: f(x)= -4.0921\n",
      "differential_evolution step 31: f(x)= -4.0921\n",
      "differential_evolution step 32: f(x)= -4.0921\n",
      "differential_evolution step 33: f(x)= -4.0921\n",
      "fvGP found hyperparameters  [ 0.54207237 61.53935261]  with likelihood  -4.092095552022315  via global optimization\n"
     ]
    }
   ],
   "source": [
    "hyper_param_bounds = np.array([[0.0001, 1000],[ 0.0001, 1000]])\n",
    "obj.train(hyper_param_bounds)"
   ]
  },
  {
   "cell_type": "markdown",
   "metadata": {},
   "source": [
    "## Looking the posterior mean at the test points"
   ]
  },
  {
   "cell_type": "code",
   "execution_count": 25,
   "metadata": {},
   "outputs": [],
   "source": [
    "post_mean= obj.posterior_mean(x_input_test.reshape(-1,1))"
   ]
  },
  {
   "cell_type": "code",
   "execution_count": 26,
   "metadata": {
    "scrolled": false
   },
   "outputs": [
    {
     "data": {
      "text/plain": [
       "<matplotlib.legend.Legend at 0x7fb6a8c3f940>"
      ]
     },
     "execution_count": 26,
     "metadata": {},
     "output_type": "execute_result"
    },
    {
     "data": {
      "image/png": "[encoded data removed]",
      "text/plain": [
       "<Figure size 432x288 with 1 Axes>"
      ]
     },
     "metadata": {
      "needs_background": "light"
     },
     "output_type": "display_data"
    }
   ],
   "source": [
    "plt.plot(x_input_test, post_mean['f(x)'], label='interpolation')\n",
    "plt.plot(x_input_test, test_data_function(x_input_test), label='ground truth')\n",
    "plt.scatter(x_input_test,post_mean['f(x)'])\n",
    "plt.legend()"
   ]
  }
 ],
 "metadata": {
  "kernelspec": {
   "display_name": "Python 3",
   "language": "python",
   "name": "python3"
  },
  "language_info": {
   "codemirror_mode": {
    "name": "ipython",
    "version": 3
   },
   "file_extension": ".py",
   "mimetype": "text/x-python",
   "name": "python",
   "nbconvert_exporter": "python",
   "pygments_lexer": "ipython3",
   "version": "3.8.5"
  }
 },
 "nbformat": 4,
 "nbformat_minor": 5
}
