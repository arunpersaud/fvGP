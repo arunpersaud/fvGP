{
 "cells": [
  {
   "cell_type": "code",
   "execution_count": 1,
   "metadata": {},
   "outputs": [],
   "source": [
    "import numpy as np\n",
    "from fvgp.ensemble_gp import EnsembleGP\n",
    "from fvgp.ensemble_gp import hyperparameters\n",
    "import matplotlib.pyplot as plt"
   ]
  },
  {
   "cell_type": "code",
   "execution_count": 2,
   "metadata": {},
   "outputs": [],
   "source": [
    "def func(x):\n",
    "    i = np.where(x[:,0] < 0.0)\n",
    "    r = np.zeros((len(x[:,0])))\n",
    "    r[i] = 0.20\n",
    "    return r\n",
    "\n",
    "def mean1(obj,x,hyperparameters):\n",
    "    return np.ones(len(x)) * hyperparameters[-1]\n",
    "def mean2(obj,x,hyperparameters):\n",
    "    return np.ones(len(x)) * hyperparameters[-1]\n",
    "def kernel1(x1,x2,hps,obj):\n",
    "    d = abs(np.subtract.outer(x1[:,0],x2[:,0]))\n",
    "    return hps[0] * obj.exponential_kernel(d,hps[1])\n",
    "def kernel2(x1,x2,hps,obj):\n",
    "    d = abs(np.subtract.outer(x1[:,0],x2[:,0]))\n",
    "    return hps[0] * obj.exponential_kernel(d,hps[1])"
   ]
  },
  {
   "cell_type": "code",
   "execution_count": 3,
   "metadata": {},
   "outputs": [
    {
     "name": "stdout",
     "output_type": "stream",
     "text": [
      "[0.5 0.5 5.  5.  5.  1.  1.  1. ]\n",
      "---------\n",
      "(array([0.5, 0.5]), [array([5., 5., 5.]), array([1., 1., 1.])])\n",
      "bounds unvectorized:\n",
      "[[1.e-04 1.e+00]\n",
      " [1.e-04 1.e+00]]\n",
      "[array([[1.e-02, 1.e+02],\n",
      "       [1.e-02, 1.e+02],\n",
      "       [0.e+00, 1.e-03]]), array([[1.000e-02, 1.000e+02],\n",
      "       [1.000e-02, 1.000e+02],\n",
      "       [1.000e+00, 1.001e+00]])]\n",
      "bounds vectorized\n",
      "[[1.000e-04 1.000e+00]\n",
      " [1.000e-04 1.000e+00]\n",
      " [1.000e-02 1.000e+02]\n",
      " [1.000e-02 1.000e+02]\n",
      " [0.000e+00 1.000e-03]\n",
      " [1.000e-02 1.000e+02]\n",
      " [1.000e-02 1.000e+02]\n",
      " [1.000e+00 1.001e+00]]\n",
      "bounds unvectorized again\n",
      "[[1.e-04 1.e+00]\n",
      " [1.e-04 1.e+00]]\n",
      "[array([[1.e-02, 1.e+02],\n",
      "       [1.e-02, 1.e+02],\n",
      "       [0.e+00, 1.e-03]]), array([[1.000e-02, 1.000e+02],\n",
      "       [1.000e-02, 1.000e+02],\n",
      "       [1.000e+00, 1.001e+00]])]\n"
     ]
    }
   ],
   "source": [
    "weights = np.ones(2) / 2.0\n",
    "weights_bounds = np.array([[0.0001,1.],[0.0001,1.0]])\n",
    "hps = [np.ones(3)*5.0,np.ones([3])]\n",
    "hps_bounds = [np.array([[0.01,100],[0.01,100],[0.0,0.001]]),np.array([[0.01,100],[0.01,100],[1.0,1.001]])]\n",
    "hps_obj = hyperparameters(weights,weights_bounds,hps,hps_bounds)\n",
    "\n",
    "a = hps_obj.vectorize_hps(weights,hps)\n",
    "print(a)\n",
    "a = hps_obj.vectorize_hps(weights,hps)\n",
    "print(\"---------\")\n",
    "print(hps_obj.devectorize_hps(a))\n",
    "print(\"bounds unvectorized:\")\n",
    "print(weights_bounds)\n",
    "print(hps_bounds)\n",
    "print(\"bounds vectorized\")\n",
    "b = hps_obj.vectorize_bounds(weights_bounds,hps_bounds)\n",
    "print(b)\n",
    "print(\"bounds unvectorized again\")\n",
    "w,h = hps_obj.devectorize_bounds(b)\n",
    "print(w)\n",
    "print(h)"
   ]
  },
  {
   "cell_type": "code",
   "execution_count": 4,
   "metadata": {},
   "outputs": [
    {
     "name": "stdout",
     "output_type": "stream",
     "text": [
      "Base GP successfully initiated\n",
      "(10, 1)\n"
     ]
    },
    {
     "data": {
      "text/plain": [
       "<matplotlib.collections.PathCollection at 0x7fe24a9eed30>"
      ]
     },
     "execution_count": 4,
     "metadata": {},
     "output_type": "execute_result"
    },
    {
     "data": {
      "image/png": "[encoded data removed]",
      "text/plain": [
       "<Figure size 432x288 with 1 Axes>"
      ]
     },
     "metadata": {
      "needs_background": "light"
     },
     "output_type": "display_data"
    }
   ],
   "source": [
    "N = 10\n",
    "points = np.empty((N,1))\n",
    "points = np.random.uniform(low = -3, high = 3, size = points.shape)\n",
    "values = func(points)\n",
    "print(\"Base GP successfully initiated\")\n",
    "print(points.shape)\n",
    "values = func(points)\n",
    "\n",
    "\n",
    "plt.scatter(points,values)"
   ]
  },
  {
   "cell_type": "code",
   "execution_count": 5,
   "metadata": {},
   "outputs": [
    {
     "name": "stdout",
     "output_type": "stream",
     "text": [
      "[array([5., 5., 5.]), array([1., 1., 1.])]\n",
      "CAUTION: you have not provided data variances in fvGP,\n",
      "they will be set to 1 percent of the data values!\n",
      "CAUTION: you have not provided data variances in fvGP,\n",
      "they will be set to 1 percent of the data values!\n",
      "Ensemble fvGP submitted to global optimization\n",
      "bounds are [[1.000e-04 1.000e+00]\n",
      " [1.000e-04 1.000e+00]\n",
      " [1.000e-02 1.000e+02]\n",
      " [1.000e-02 1.000e+02]\n",
      " [0.000e+00 1.000e-03]\n",
      " [1.000e-02 1.000e+02]\n",
      " [1.000e-02 1.000e+02]\n",
      " [1.000e+00 1.001e+00]]\n",
      "maximum number of iterations:  20\n",
      "termination tolerance:  0.0001\n",
      "differential_evolution step 1: f(x)= 3.08128\n",
      "differential_evolution step 2: f(x)= 2.11776\n",
      "differential_evolution step 3: f(x)= 1.24524\n",
      "differential_evolution step 4: f(x)= -2.39908\n",
      "differential_evolution step 5: f(x)= -2.39908\n",
      "differential_evolution step 6: f(x)= -2.39908\n",
      "differential_evolution step 7: f(x)= -2.57648\n",
      "differential_evolution step 8: f(x)= -2.57648\n",
      "differential_evolution step 9: f(x)= -2.57648\n",
      "differential_evolution step 10: f(x)= -2.57648\n",
      "differential_evolution step 11: f(x)= -2.57648\n",
      "differential_evolution step 12: f(x)= -2.57648\n",
      "differential_evolution step 13: f(x)= -2.57648\n",
      "differential_evolution step 14: f(x)= -2.57648\n",
      "differential_evolution step 15: f(x)= -6.02891\n",
      "differential_evolution step 16: f(x)= -7.08816\n",
      "differential_evolution step 17: f(x)= -7.08816\n",
      "differential_evolution step 18: f(x)= -7.08816\n",
      "differential_evolution step 19: f(x)= -7.08816\n",
      "differential_evolution step 20: f(x)= -7.08816\n",
      "fvGP found weights  [0.11902318 0.83219867]\n",
      "and hyperparameters:  [array([2.60456106e+00, 9.51362189e+01, 3.76535110e-04]), array([ 0.51314576, 46.69897869,  1.00067207])]\n",
      " with likelihood:  -7.088163693510102  via global optimization\n",
      "new weights after training:  [0.11902318 0.83219867]\n",
      "new hps     after training:  [array([2.60456106e+00, 9.51362189e+01, 3.76535110e-04]), array([ 0.51314576, 46.69897869,  1.00067207])]\n",
      "GPs updated\n"
     ]
    }
   ],
   "source": [
    "\n",
    "print(hps_obj.hps)\n",
    "\n",
    "my_gp = EnsembleGP(1,points,values,2,hps_obj,\n",
    "                gp_kernel_functions = [kernel1,kernel2],\n",
    "                gp_mean_functions = [mean1,mean2],\n",
    "                compute_device = \"cpu\")\n",
    "my_gp.train(hps_obj,\n",
    "                pop_size = 20,\n",
    "                tolerance = 0.0001,\n",
    "                max_iter = 20)"
   ]
  },
  {
   "cell_type": "code",
   "execution_count": 6,
   "metadata": {},
   "outputs": [
    {
     "name": "stdout",
     "output_type": "stream",
     "text": [
      "1000\n",
      "(1000,)\n"
     ]
    },
    {
     "data": {
      "text/plain": [
       "<matplotlib.image.AxesImage at 0x7fe247988400>"
      ]
     },
     "execution_count": 6,
     "metadata": {},
     "output_type": "execute_result"
    },
    {
     "data": {
      "image/png": "[encoded data removed]",
      "text/plain": [
       "<Figure size 720x720 with 1 Axes>"
      ]
     },
     "metadata": {
      "needs_background": "light"
     },
     "output_type": "display_data"
    }
   ],
   "source": [
    "import matplotlib.pyplot as plt\n",
    "plot_n  = 1000\n",
    "x_input = np.empty((plot_n,1))\n",
    "x_input[:,0] = np.linspace(-2,2,plot_n)\n",
    "y = func(x_input)\n",
    "post = my_gp.posterior(x_input, res = 1000)[\"pdf\"]\n",
    "print(len(post))\n",
    "print(post[0].shape)\n",
    "fig = plt.figure(figsize = (10,10))\n",
    "plt.imshow((np.flip(np.array(post).T)))\n"
   ]
  },
  {
   "cell_type": "code",
   "execution_count": null,
   "metadata": {},
   "outputs": [],
   "source": []
  },
  {
   "cell_type": "code",
   "execution_count": null,
   "metadata": {},
   "outputs": [],
   "source": []
  }
 ],
 "metadata": {
  "kernelspec": {
   "display_name": "Python 3",
   "language": "python",
   "name": "python3"
  },
  "language_info": {
   "codemirror_mode": {
    "name": "ipython",
    "version": 3
   },
   "file_extension": ".py",
   "mimetype": "text/x-python",
   "name": "python",
   "nbconvert_exporter": "python",
   "pygments_lexer": "ipython3",
   "version": "3.8.5"
  }
 },
 "nbformat": 4,
 "nbformat_minor": 4
}
